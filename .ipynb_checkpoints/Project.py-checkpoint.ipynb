{
 "cells": [
  {
   "cell_type": "code",
   "execution_count": 202,
   "metadata": {},
   "outputs": [],
   "source": [
    "import json\n",
    "import csv\n",
    "import pandas as pd\n",
    "from sklearn import preprocessing\n",
    "import numpy as np\n",
    "import os\n",
    "from collections.abc import Sequence\n",
    "import matplotlib.pyplot as plt\n",
    "from matplotlib.pyplot import figure, show\n",
    "import sklearn.feature_extraction.text as sk_text\n",
    "from sklearn import metrics\n",
    "import tensorflow.keras \n",
    "from tensorflow.keras.models import Sequential\n",
    "from sklearn.model_selection import train_test_split\n",
    "from tensorflow.keras.layers import Dense, Activation\n",
    "from tensorflow.keras.callbacks import EarlyStopping , ModelCheckpoint\n",
    "\n",
    "from collections import Counter\n",
    "from datetime import datetime\n"
   ]
  },
  {
   "cell_type": "code",
   "execution_count": 203,
   "metadata": {},
   "outputs": [],
   "source": [
    "### HELPER FUNCTIONS ###\n",
    "\n",
    "# Encode text values to indexes(i.e. [1],[2],[3] for red,green,blue).\n",
    "def encode_text_index(df, name):\n",
    "    le = preprocessing.LabelEncoder()\n",
    "    df[name] = le.fit_transform(df[name])\n",
    "    return le.classes_\n",
    "\n",
    "def encode_numeric_zscore(df, name, mean=None, sd=None):\n",
    "    if mean is None:\n",
    "        mean = df[name].mean()\n",
    "\n",
    "    if sd is None:\n",
    "        sd = df[name].std()\n",
    "\n",
    "    df[name] = (df[name] - mean) / sd\n",
    "    \n",
    "def chart_regression(pred,y,sort=True):\n",
    "    t = pd.DataFrame({'pred' : pred, 'y' : y.flatten()})\n",
    "    if sort:\n",
    "        t.sort_values(by=['y'],inplace=True)\n",
    "    a = plt.plot(t['y'].tolist(),label='expected')\n",
    "    b = plt.plot(t['pred'].tolist(),label='prediction')\n",
    "    plt.ylabel('output')\n",
    "    plt.legend()\n",
    "    plt.show()\n",
    "\n",
    "\n",
    "def to_xy(df, target):\n",
    "    result = []\n",
    "    for x in df.columns:\n",
    "        if x != target:\n",
    "            result.append(x)\n",
    "    # find out the type of the target column. \n",
    "    target_type = df[target].dtypes\n",
    "    target_type = target_type[0] if isinstance(target_type, Sequence) else target_type\n",
    "    # Encode to int for classification, float otherwise. TensorFlow likes 32 bits.\n",
    "    if target_type in (np.int64, np.int32):\n",
    "        # Classification\n",
    "        dummies = pd.get_dummies(df[target])\n",
    "        return df[result].values.astype(np.float32), dummies.values.astype(np.float32)\n",
    "    else:\n",
    "        # Regression\n",
    "        return df[result].values.astype(np.float32), df[target].values.astype(np.float32)"
   ]
  },
  {
   "cell_type": "code",
   "execution_count": 204,
   "metadata": {},
   "outputs": [
    {
     "name": "stdout",
     "output_type": "stream",
     "text": [
      "                  business_id  stars                           name\n",
      "0      f9NumwFMBDn751xgFiRbNA    3.5       The Range At Lake Norman\n",
      "1      51M2Kk903DFYI6gnB5I6SQ    4.5        USE MY GUY SERVICES LLC\n",
      "2      cKyLV5oWZJ2NudWgqs8VZw    4.5    Oasis Auto Center - Gilbert\n",
      "3      oiAlXZPIFm2nBCt0DHLu_Q    3.5           Green World Cleaners\n",
      "4      uZuh51lXu7tsrC8RAwkg1A    4.5                 Manolo Blahnik\n",
      "...                       ...    ...                            ...\n",
      "63848  YZeUH6zYS0dq5QHLYZhUnQ    2.0                        Hooters\n",
      "63849  xVpE01l6ZXdEtVf5PkRpDg    4.0                          Julep\n",
      "63850  fNil19SUfPAPnLQrYnFrGQ    4.5  Cheyenne West Animal Hospital\n",
      "63851  JjcJVqhZXhP4tvOhg3fnag    5.0              Water Heater Pros\n",
      "63852  SYa2j1boLF8DcGVOYfHPcA    3.5                      Five Guys\n",
      "\n",
      "[63853 rows x 3 columns]\n"
     ]
    }
   ],
   "source": [
    "#  tsv output file for cleaned up business json dataset\n",
    "outfile = open(\"businesses.tsv\", 'w')\n",
    "businessfile = csv.writer(outfile, delimiter =\"\\t\", quoting=csv.QUOTE_MINIMAL) \n",
    "businessfile.writerow(['business_id','name', 'stars', 'category'])\n",
    "\n",
    "# Opens json dataset from path. \n",
    "with open('yelp_dataset/yelp_academic_dataset_business.json', encoding=\"utf-8\") as f: \n",
    "    for line in f:\n",
    "        row = json.loads(line)\n",
    "        # Only getting businesses with review count over 20\n",
    "        if row['review_count'] > 20:\n",
    "            # some special char must be encoded in 'utf-8' \n",
    "            businessfile.writerow([row['business_id'], row['name'], row['stars'], row['categories']])\n",
    "\n",
    "# Close tsv file\n",
    "outfile.close()\n",
    "\n",
    "# Create pandas dataframe tsv output file\n",
    "df_business = pd.read_csv('businesses.tsv', delimiter =\"\\t\", encoding=\"utf-8\")\n",
    "df_stars = df_business[['business_id', 'stars' , 'name']]\n",
    "\n",
    "print(df_stars)"
   ]
  },
  {
   "cell_type": "code",
   "execution_count": 205,
   "metadata": {},
   "outputs": [],
   "source": [
    "# dict for business_ids of businesses used for project\n",
    "# Will use this to search for the businesses chosen for project in the reviews json dataset\n",
    "# and add it to reviews tsv\n",
    "chosen_business = { 'YZeUH6zYS0dq5QHLYZhUnQ':'Hooters', 'oiAlXZPIFm2nBCt0DHLu_Q': 'Green World Cleaners', 'fNil19SUfPAPnLQrYnFrGQ' :'Cheyenne West Animal Hospital',   'JjcJVqhZXhP4tvOhg3fnag' :'Water Heater Pros' }\n",
    "\n",
    "\n",
    "#  tsv output file for cleaned up review json dataset\n",
    "outfile = open(\"review_stars.tsv\", 'w')\n",
    "sfile = csv.writer(outfile, delimiter =\"\\t\", quoting=csv.QUOTE_MINIMAL) \n",
    "sfile.writerow(['business_id','stars', 'text'])\n",
    "\n",
    "# Opens json dataset from path. \n",
    "with open('yelp_dataset/yelp_academic_dataset_review.json', encoding=\"utf-8\") as f: \n",
    "    for line in f:\n",
    "        row = json.loads(line)\n",
    "        # If statement to look for our chosen businesses\n",
    "        if row['business_id'] in chosen_business: \n",
    "            # some special char must be encoded in 'utf-8' \n",
    "            sfile.writerow( [row['business_id'], row['stars'], (row['text']).encode('utf-8')])\n",
    "        \n",
    "            \n",
    "\n",
    "# Close tsv file\n",
    "outfile.close()\n",
    "\n",
    "# Create pandas dataframe tsv output file\n",
    "df = pd.read_csv('review_stars.tsv', delimiter =\"\\t\", encoding=\"utf-8\")\n",
    "\n"
   ]
  },
  {
   "cell_type": "code",
   "execution_count": 206,
   "metadata": {},
   "outputs": [
    {
     "name": "stdout",
     "output_type": "stream",
     "text": [
      "              business_id                                               text  \\\n",
      "0  JjcJVqhZXhP4tvOhg3fnag  b'My water heater was leaking and I needed to ...   \n",
      "1  YZeUH6zYS0dq5QHLYZhUnQ  b'Came into this place on 12/20/15 to catch th...   \n",
      "2  fNil19SUfPAPnLQrYnFrGQ  b\"I was a new patient bringing my dog in for t...   \n",
      "3  oiAlXZPIFm2nBCt0DHLu_Q  b\"I've been coming to this dry cleaner for alm...   \n",
      "\n",
      "   stars                           name  \n",
      "0    5.0              Water Heater Pros  \n",
      "1    2.0                        Hooters  \n",
      "2    4.5  Cheyenne West Animal Hospital  \n",
      "3    3.5           Green World Cleaners  \n",
      "   stars         0         1         2       3         4         5         6  \\\n",
      "0    5.0  0.004742  0.015507  0.006638  0.0104  0.017057  0.001551  0.001897   \n",
      "1    2.0  0.031104  0.033906  0.003456  0.0000  0.008476  0.008476  0.010368   \n",
      "2    4.5  0.001974  0.016136  0.000000  0.0000  0.004841  0.004841  0.005921   \n",
      "3    3.5  0.000000  0.028003  0.019572  0.0000  0.012001  0.004000  0.000000   \n",
      "\n",
      "          7         8  ...       990       991       992       993       994  \\\n",
      "0  0.001897  0.006203  ...  0.003877  0.001171  0.022485  0.016282  0.052723   \n",
      "1  0.000000  0.053684  ...  0.025429  0.021344  0.011302  0.014127  0.008476   \n",
      "2  0.005921  0.011295  ...  0.008068  0.000000  0.022591  0.085521  0.014522   \n",
      "3  0.009786  0.016002  ...  0.044004  0.000000  0.012001  0.040004  0.020002   \n",
      "\n",
      "        995       996       997       998       999  \n",
      "0  0.004686  0.005427  0.003877  0.000000  0.000000  \n",
      "1  0.000000  0.011302  0.002825  0.000000  0.000000  \n",
      "2  0.002438  0.003227  0.008068  0.018553  0.000000  \n",
      "3  0.000000  0.016002  0.004000  0.000000  0.053661  \n",
      "\n",
      "[4 rows x 1001 columns]\n"
     ]
    }
   ],
   "source": [
    "\n",
    "\n",
    "# Aggregate all reviews for each business into one column\n",
    "df_review_agg = df.groupby('business_id')['text'].sum()\n",
    "# Merge review dataframe with star rating from business dataframe using business_id\n",
    "df_merge = pd.merge(df_review_agg, df_stars, on='business_id')\n",
    "\n",
    "print(df_merge)\n",
    "\n",
    "# Tfidf vectorizer for text column\n",
    "vectorizer = sk_text.TfidfVectorizer(\n",
    "                             stop_words='english',\n",
    "                             max_features = 1000,\n",
    "                             min_df=1)\n",
    "text_vector = vectorizer.fit_transform(df_merge['text'])\n",
    "\n",
    "# Merge vectorized text vector with dataframe\n",
    "df_text = pd.DataFrame(text_vector.toarray())\n",
    "df_concatenation = pd.concat([df_merge, df_text], axis=1)\n",
    "\n",
    "business_names = []\n",
    "\n",
    "business_names = df_concatenation['name']\n",
    "# drop unnecessary columns for neural network\n",
    "df_for_nn = df_concatenation.drop(['business_id','text','name'], axis=1) # drop unnecessary columns for neural network\n",
    "\n",
    "#collumn = 0 \n",
    "#for x in range(1000):\n",
    "#    encode_numeric_zscore(df_for_nn, x)\n",
    "\n",
    "print(df_for_nn)"
   ]
  },
  {
   "cell_type": "code",
   "execution_count": 207,
   "metadata": {},
   "outputs": [],
   "source": [
    "x,y = to_xy(df_for_nn,\"stars\")\n",
    "x_train, x_test, y_train, y_test = train_test_split (x, y, test_size=0.25, random_state=45)"
   ]
  },
  {
   "cell_type": "code",
   "execution_count": 208,
   "metadata": {},
   "outputs": [
    {
     "name": "stdout",
     "output_type": "stream",
     "text": [
      "Epoch 1/1000\n",
      "1/1 - 0s - loss: 16.4111 - val_loss: 23.1906\n",
      "Epoch 2/1000\n",
      "1/1 - 0s - loss: 10.9748 - val_loss: 17.6904\n",
      "Epoch 3/1000\n",
      "1/1 - 0s - loss: 7.5032 - val_loss: 13.7988\n",
      "Epoch 4/1000\n",
      "1/1 - 0s - loss: 5.2476 - val_loss: 10.9969\n",
      "Epoch 5/1000\n",
      "1/1 - 0s - loss: 3.7734 - val_loss: 8.9550\n",
      "Epoch 6/1000\n",
      "1/1 - 0s - loss: 2.8103 - val_loss: 7.4529\n",
      "Epoch 7/1000\n",
      "1/1 - 0s - loss: 2.1833 - val_loss: 6.3388\n",
      "Epoch 8/1000\n",
      "1/1 - 0s - loss: 1.7772 - val_loss: 5.5061\n",
      "Epoch 9/1000\n",
      "1/1 - 0s - loss: 1.5155 - val_loss: 4.8793\n",
      "Epoch 10/1000\n",
      "1/1 - 0s - loss: 1.3477 - val_loss: 4.4042\n",
      "Epoch 11/1000\n",
      "1/1 - 0s - loss: 1.2406 - val_loss: 4.0419\n",
      "Epoch 12/1000\n",
      "1/1 - 0s - loss: 1.1725 - val_loss: 3.7641\n",
      "Epoch 13/1000\n",
      "1/1 - 0s - loss: 1.1293 - val_loss: 3.5499\n",
      "Epoch 14/1000\n",
      "1/1 - 0s - loss: 1.1020 - val_loss: 3.3840\n",
      "Epoch 15/1000\n",
      "1/1 - 0s - loss: 1.0847 - val_loss: 3.2551\n",
      "Epoch 16/1000\n",
      "1/1 - 0s - loss: 1.0738 - val_loss: 3.1547\n",
      "Epoch 17/1000\n",
      "1/1 - 0s - loss: 1.0670 - val_loss: 3.0761\n",
      "Epoch 18/1000\n",
      "1/1 - 0s - loss: 1.0626 - val_loss: 3.0146\n",
      "Epoch 19/1000\n",
      "1/1 - 0s - loss: 1.0598 - val_loss: 2.9663\n",
      "Epoch 20/1000\n",
      "1/1 - 0s - loss: 1.0580 - val_loss: 2.9283\n",
      "Epoch 21/1000\n",
      "1/1 - 0s - loss: 1.0569 - val_loss: 2.8984\n",
      "Epoch 22/1000\n",
      "1/1 - 0s - loss: 1.0561 - val_loss: 2.8749\n",
      "Epoch 23/1000\n",
      "1/1 - 0s - loss: 1.0556 - val_loss: 2.8563\n",
      "Epoch 24/1000\n",
      "1/1 - 0s - loss: 1.0553 - val_loss: 2.8417\n",
      "Epoch 25/1000\n",
      "1/1 - 0s - loss: 1.0550 - val_loss: 2.8301\n",
      "Epoch 26/1000\n",
      "1/1 - 0s - loss: 1.0548 - val_loss: 2.8210\n",
      "Epoch 27/1000\n",
      "1/1 - 0s - loss: 1.0546 - val_loss: 2.8138\n",
      "Epoch 28/1000\n",
      "1/1 - 0s - loss: 1.0545 - val_loss: 2.8080\n",
      "Epoch 29/1000\n",
      "1/1 - 0s - loss: 1.0544 - val_loss: 2.8035\n",
      "Epoch 30/1000\n",
      "1/1 - 0s - loss: 1.0542 - val_loss: 2.7999\n",
      "Epoch 31/1000\n",
      "1/1 - 0s - loss: 1.0541 - val_loss: 2.7971\n",
      "Epoch 32/1000\n",
      "1/1 - 0s - loss: 1.0540 - val_loss: 2.7948\n",
      "Epoch 33/1000\n",
      "1/1 - 0s - loss: 1.0539 - val_loss: 2.7931\n",
      "Epoch 34/1000\n",
      "1/1 - 0s - loss: 1.0538 - val_loss: 2.7916\n",
      "Epoch 35/1000\n",
      "1/1 - 0s - loss: 1.0537 - val_loss: 2.7905\n",
      "Epoch 36/1000\n",
      "1/1 - 0s - loss: 1.0536 - val_loss: 2.7896\n",
      "Epoch 37/1000\n",
      "1/1 - 0s - loss: 1.0535 - val_loss: 2.7889\n",
      "Epoch 38/1000\n",
      "1/1 - 0s - loss: 1.0534 - val_loss: 2.7883\n",
      "Epoch 39/1000\n",
      "1/1 - 0s - loss: 1.0533 - val_loss: 2.7878\n",
      "Epoch 40/1000\n",
      "1/1 - 0s - loss: 1.0532 - val_loss: 2.7875\n",
      "Epoch 41/1000\n",
      "1/1 - 0s - loss: 1.0531 - val_loss: 2.7871\n",
      "Epoch 42/1000\n",
      "1/1 - 0s - loss: 1.0530 - val_loss: 2.7869\n",
      "Epoch 00042: early stopping\n"
     ]
    },
    {
     "data": {
      "text/plain": [
       "<tensorflow.python.keras.callbacks.History at 0x7fd5d4bac670>"
      ]
     },
     "execution_count": 208,
     "metadata": {},
     "output_type": "execute_result"
    }
   ],
   "source": [
    "model = Sequential()\n",
    "\n",
    "model.add(Dense(100, input_dim=x.shape[1], activation='relu'))\n",
    "model.add(Dense(50, activation='sigmoid'))\n",
    "model.add(Dense(25, activation='sigmoid'))\n",
    "model.add(Dense(1))\n",
    "\n",
    "\n",
    "model.compile(loss='mean_squared_error', optimizer='sgd')\n",
    "\n",
    "monitor = EarlyStopping(monitor='val_loss', min_delta=1e-3, patience=3, verbose=1, mode='auto')\n",
    "\n",
    "model.fit(x_train,y_train, validation_data=(x_test,y_test),callbacks=[monitor],verbose=2,epochs=1000)    # Verbosity mode. 0 = silent, 1 = progress bar, 2 = one line per epoch."
   ]
  },
  {
   "cell_type": "code",
   "execution_count": 209,
   "metadata": {},
   "outputs": [
    {
     "name": "stdout",
     "output_type": "stream",
     "text": [
      "WARNING:tensorflow:10 out of the last 11 calls to <function Model.make_predict_function.<locals>.predict_function at 0x7fd5d529d0d0> triggered tf.function retracing. Tracing is expensive and the excessive number of tracings could be due to (1) creating @tf.function repeatedly in a loop, (2) passing tensors with different shapes, (3) passing Python objects instead of tensors. For (1), please define your @tf.function outside of the loop. For (2), @tf.function has experimental_relax_shapes=True option that relaxes argument shapes that can avoid unnecessary retracing. For (3), please refer to https://www.tensorflow.org/tutorials/customization/performance#python_or_tensor_args and https://www.tensorflow.org/api_docs/python/tf/function for  more details.\n",
      "Shape: (1, 1)\n",
      "[[3.3306024]]\n"
     ]
    }
   ],
   "source": [
    "pred = model.predict(x_test)\n",
    "print(\"Shape: {}\".format(pred.shape))\n",
    "print(pred)"
   ]
  },
  {
   "cell_type": "code",
   "execution_count": 210,
   "metadata": {},
   "outputs": [
    {
     "name": "stdout",
     "output_type": "stream",
     "text": [
      "Final score (RMSE): 1.6693975925445557\n"
     ]
    }
   ],
   "source": [
    "# Measure RMSE error.  RMSE is common for regression.\n",
    "score = np.sqrt(metrics.mean_squared_error(pred,y_test))\n",
    "print(\"Final score (RMSE): {}\".format(score))"
   ]
  },
  {
   "cell_type": "code",
   "execution_count": 211,
   "metadata": {},
   "outputs": [
    {
     "name": "stdout",
     "output_type": "stream",
     "text": [
      "1. Business Name: Water Heater Pros, Star Rating: 5.0, predicted Star Rating: [3.3306024]\n"
     ]
    }
   ],
   "source": [
    "for i in range(pred.shape[0]):\n",
    "    print(\"{}. Business Name: {}, Star Rating: {}, predicted Star Rating: {}\".format(i+1,business_names[i],y[i],pred[i]))"
   ]
  },
  {
   "cell_type": "code",
   "execution_count": 212,
   "metadata": {},
   "outputs": [
    {
     "data": {
      "text/html": [
       "<div>\n",
       "<style scoped>\n",
       "    .dataframe tbody tr th:only-of-type {\n",
       "        vertical-align: middle;\n",
       "    }\n",
       "\n",
       "    .dataframe tbody tr th {\n",
       "        vertical-align: top;\n",
       "    }\n",
       "\n",
       "    .dataframe thead th {\n",
       "        text-align: right;\n",
       "    }\n",
       "</style>\n",
       "<table border=\"1\" class=\"dataframe\">\n",
       "  <thead>\n",
       "    <tr style=\"text-align: right;\">\n",
       "      <th></th>\n",
       "      <th>ground_truth</th>\n",
       "      <th>predicted</th>\n",
       "    </tr>\n",
       "  </thead>\n",
       "  <tbody>\n",
       "    <tr>\n",
       "      <th>0</th>\n",
       "      <td>5.0</td>\n",
       "      <td>3.330602</td>\n",
       "    </tr>\n",
       "  </tbody>\n",
       "</table>\n",
       "</div>"
      ],
      "text/plain": [
       "   ground_truth  predicted\n",
       "0           5.0   3.330602"
      ]
     },
     "execution_count": 212,
     "metadata": {},
     "output_type": "execute_result"
    }
   ],
   "source": [
    "# print out prediction\n",
    "df_y = pd.DataFrame(y_test, columns=['ground_truth'])\n",
    "df_pred = pd.DataFrame(pred, columns=['predicted'])\n",
    "result = pd.concat([df_y, df_pred],axis=1)\n",
    "result"
   ]
  },
  {
   "cell_type": "code",
   "execution_count": 213,
   "metadata": {},
   "outputs": [
    {
     "data": {
      "image/png": "[encoded data removed]",
      "text/plain": [
       "<Figure size 432x288 with 1 Axes>"
      ]
     },
     "metadata": {
      "needs_background": "light"
     },
     "output_type": "display_data"
    }
   ],
   "source": [
    "chart_regression(pred.flatten(),y_test, sort=True)"
   ]
  },
  {
   "cell_type": "code",
   "execution_count": null,
   "metadata": {},
   "outputs": [],
   "source": []
  }
 ],
 "metadata": {
  "kernelspec": {
   "display_name": "Python 3",
   "language": "python",
   "name": "python3"
  },
  "language_info": {
   "codemirror_mode": {
    "name": "ipython",
    "version": 3
   },
   "file_extension": ".py",
   "mimetype": "text/x-python",
   "name": "python",
   "nbconvert_exporter": "python",
   "pygments_lexer": "ipython3",
   "version": "3.8.3"
  }
 },
 "nbformat": 4,
 "nbformat_minor": 4
}

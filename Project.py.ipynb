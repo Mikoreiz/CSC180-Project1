{
 "cells": [
  {
   "cell_type": "code",
   "execution_count": 33,
   "metadata": {},
   "outputs": [],
   "source": [
    "import json\n",
    "import csv\n",
    "import pandas as pd\n",
    "from sklearn import preprocessing\n",
    "import numpy as np\n",
    "import os\n",
    "from collections.abc import Sequence\n",
    "import matplotlib.pyplot as plt\n",
    "from matplotlib.pyplot import figure, show\n",
    "import sklearn.feature_extraction.text as sk_text\n",
    "from sklearn import metrics\n",
    "import tensorflow.keras \n",
    "from tensorflow.keras.models import Sequential\n",
    "from sklearn.model_selection import train_test_split\n",
    "from tensorflow.keras.layers import Dense, Activation\n",
    "from tensorflow.keras.callbacks import EarlyStopping , ModelCheckpoint\n",
    "\n",
    "from collections import Counter\n",
    "from datetime import datetime\n",
    "\n",
    "import h5py\n"
   ]
  },
  {
   "cell_type": "code",
   "execution_count": 9,
   "metadata": {},
   "outputs": [],
   "source": [
    "### HELPER FUNCTIONS ###\n",
    "\n",
    "# Encode text values to indexes(i.e. [1],[2],[3] for red,green,blue).\n",
    "def encode_text_index(df, name):\n",
    "    le = preprocessing.LabelEncoder()\n",
    "    df[name] = le.fit_transform(df[name])\n",
    "    return le.classes_\n",
    "\n",
    "def encode_numeric_zscore(df, name, mean=None, sd=None):\n",
    "    if mean is None:\n",
    "        mean = df[name].mean()\n",
    "\n",
    "    if sd is None:\n",
    "        sd = df[name].std()\n",
    "\n",
    "    df[name] = (df[name] - mean) / sd\n",
    "    \n",
    "def chart_regression(pred,y,sort=True):\n",
    "    t = pd.DataFrame({'pred' : pred, 'y' : y.flatten()})\n",
    "    if sort:\n",
    "        t.sort_values(by=['y'],inplace=True)\n",
    "    a = plt.plot(t['y'].tolist(),label='expected')\n",
    "    b = plt.plot(t['pred'].tolist(),label='prediction')\n",
    "    plt.ylabel('output')\n",
    "    plt.legend()\n",
    "    plt.show()\n",
    "\n",
    "\n",
    "def to_xy(df, target):\n",
    "    result = []\n",
    "    for x in df.columns:\n",
    "        if x != target:\n",
    "            result.append(x)\n",
    "    # find out the type of the target column. \n",
    "    target_type = df[target].dtypes\n",
    "    target_type = target_type[0] if isinstance(target_type, Sequence) else target_type\n",
    "    # Encode to int for classification, float otherwise. TensorFlow likes 32 bits.\n",
    "    if target_type in (np.int64, np.int32):\n",
    "        # Classification\n",
    "        dummies = pd.get_dummies(df[target])\n",
    "        return df[result].values.astype(np.float32), dummies.values.astype(np.float32)\n",
    "    else:\n",
    "        # Regression\n",
    "        return df[result].values.astype(np.float32), df[target].values.astype(np.float32)"
   ]
  },
  {
   "cell_type": "code",
   "execution_count": 10,
   "metadata": {},
   "outputs": [
    {
     "name": "stdout",
     "output_type": "stream",
     "text": [
      "                  business_id  stars                           name\n",
      "0      f9NumwFMBDn751xgFiRbNA    3.5       The Range At Lake Norman\n",
      "1      51M2Kk903DFYI6gnB5I6SQ    4.5        USE MY GUY SERVICES LLC\n",
      "2      cKyLV5oWZJ2NudWgqs8VZw    4.5    Oasis Auto Center - Gilbert\n",
      "3      oiAlXZPIFm2nBCt0DHLu_Q    3.5           Green World Cleaners\n",
      "4      uZuh51lXu7tsrC8RAwkg1A    4.5                 Manolo Blahnik\n",
      "...                       ...    ...                            ...\n",
      "63848  YZeUH6zYS0dq5QHLYZhUnQ    2.0                        Hooters\n",
      "63849  xVpE01l6ZXdEtVf5PkRpDg    4.0                          Julep\n",
      "63850  fNil19SUfPAPnLQrYnFrGQ    4.5  Cheyenne West Animal Hospital\n",
      "63851  JjcJVqhZXhP4tvOhg3fnag    5.0              Water Heater Pros\n",
      "63852  SYa2j1boLF8DcGVOYfHPcA    3.5                      Five Guys\n",
      "\n",
      "[63853 rows x 3 columns]\n"
     ]
    }
   ],
   "source": [
    "#  tsv output file for cleaned up business json dataset\n",
    "outfile = open(\"businesses.tsv\", 'w')\n",
    "businessfile = csv.writer(outfile, delimiter =\"\\t\", quoting=csv.QUOTE_MINIMAL) \n",
    "businessfile.writerow(['business_id','name', 'stars', 'category'])\n",
    "\n",
    "# Opens json dataset from path. \n",
    "with open('yelp_dataset/yelp_academic_dataset_business.json', encoding=\"utf-8\") as f: \n",
    "    for line in f:\n",
    "        row = json.loads(line)\n",
    "        # Only getting businesses with review count over 20\n",
    "        if row['review_count'] > 20:\n",
    "            # some special char must be encoded in 'utf-8' \n",
    "            businessfile.writerow([row['business_id'], row['name'], row['stars'], row['categories']])\n",
    "\n",
    "# Close tsv file\n",
    "outfile.close()\n",
    "\n",
    "# Create pandas dataframe tsv output file\n",
    "df_business = pd.read_csv('businesses.tsv', delimiter =\"\\t\", encoding=\"utf-8\")\n",
    "df_stars = df_business[['business_id', 'stars' , 'name']]\n",
    "\n",
    "print(df_stars)"
   ]
  },
  {
   "cell_type": "code",
   "execution_count": 11,
   "metadata": {},
   "outputs": [],
   "source": [
    "# dict for business_ids of businesses used for project\n",
    "# Will use this to search for the businesses chosen for project in the reviews json dataset\n",
    "# and add it to reviews tsv\n",
    "chosen_business = { 'YZeUH6zYS0dq5QHLYZhUnQ':'Hooters', 'oiAlXZPIFm2nBCt0DHLu_Q': 'Green World Cleaners', 'fNil19SUfPAPnLQrYnFrGQ' :'Cheyenne West Animal Hospital',   'JjcJVqhZXhP4tvOhg3fnag' :'Water Heater Pros' }\n",
    "\n",
    "\n",
    "#  tsv output file for cleaned up review json dataset\n",
    "outfile = open(\"review_stars.tsv\", 'w')\n",
    "sfile = csv.writer(outfile, delimiter =\"\\t\", quoting=csv.QUOTE_MINIMAL) \n",
    "sfile.writerow(['business_id','stars', 'text'])\n",
    "\n",
    "# Opens json dataset from path. \n",
    "with open('yelp_dataset/yelp_academic_dataset_review.json', encoding=\"utf-8\") as f: \n",
    "    for line in f:\n",
    "        row = json.loads(line)\n",
    "        # If statement to look for our chosen businesses\n",
    "        if row['business_id'] in chosen_business: \n",
    "            # some special char must be encoded in 'utf-8' \n",
    "            sfile.writerow( [row['business_id'], row['stars'], (row['text']).encode('utf-8')])\n",
    "        \n",
    "            \n",
    "\n",
    "# Close tsv file\n",
    "outfile.close()\n",
    "\n",
    "# Create pandas dataframe tsv output file\n",
    "df = pd.read_csv('review_stars.tsv', delimiter =\"\\t\", encoding=\"utf-8\")\n",
    "\n"
   ]
  },
  {
   "cell_type": "code",
   "execution_count": 12,
   "metadata": {},
   "outputs": [
    {
     "name": "stdout",
     "output_type": "stream",
     "text": [
      "              business_id                                               text  \\\n",
      "0  JjcJVqhZXhP4tvOhg3fnag  b'My water heater was leaking and I needed to ...   \n",
      "1  YZeUH6zYS0dq5QHLYZhUnQ  b'Came into this place on 12/20/15 to catch th...   \n",
      "2  fNil19SUfPAPnLQrYnFrGQ  b\"I was a new patient bringing my dog in for t...   \n",
      "3  oiAlXZPIFm2nBCt0DHLu_Q  b\"I've been coming to this dry cleaner for alm...   \n",
      "\n",
      "   stars                           name  \n",
      "0    5.0              Water Heater Pros  \n",
      "1    2.0                        Hooters  \n",
      "2    4.5  Cheyenne West Animal Hospital  \n",
      "3    3.5           Green World Cleaners  \n",
      "   stars         0         1         2       3         4         5         6  \\\n",
      "0    5.0  0.004742  0.015507  0.006638  0.0104  0.017057  0.001551  0.001897   \n",
      "1    2.0  0.031104  0.033906  0.003456  0.0000  0.008476  0.008476  0.010368   \n",
      "2    4.5  0.001974  0.016136  0.000000  0.0000  0.004841  0.004841  0.005921   \n",
      "3    3.5  0.000000  0.028003  0.019572  0.0000  0.012001  0.004000  0.000000   \n",
      "\n",
      "          7         8  ...       990       991       992       993       994  \\\n",
      "0  0.001897  0.006203  ...  0.003877  0.001171  0.022485  0.016282  0.052723   \n",
      "1  0.000000  0.053684  ...  0.025429  0.021344  0.011302  0.014127  0.008476   \n",
      "2  0.005921  0.011295  ...  0.008068  0.000000  0.022591  0.085521  0.014522   \n",
      "3  0.009786  0.016002  ...  0.044004  0.000000  0.012001  0.040004  0.020002   \n",
      "\n",
      "        995       996       997       998       999  \n",
      "0  0.004686  0.005427  0.003877  0.000000  0.000000  \n",
      "1  0.000000  0.011302  0.002825  0.000000  0.000000  \n",
      "2  0.002438  0.003227  0.008068  0.018553  0.000000  \n",
      "3  0.000000  0.016002  0.004000  0.000000  0.053661  \n",
      "\n",
      "[4 rows x 1001 columns]\n"
     ]
    }
   ],
   "source": [
    "\n",
    "\n",
    "# Aggregate all reviews for each business into one column\n",
    "df_review_agg = df.groupby('business_id')['text'].sum()\n",
    "# Merge review dataframe with star rating from business dataframe using business_id\n",
    "df_merge = pd.merge(df_review_agg, df_stars, on='business_id')\n",
    "\n",
    "print(df_merge)\n",
    "\n",
    "# Tfidf vectorizer for text column\n",
    "vectorizer = sk_text.TfidfVectorizer(\n",
    "                             stop_words='english',\n",
    "                             max_features = 1000,\n",
    "                             min_df=1)\n",
    "text_vector = vectorizer.fit_transform(df_merge['text'])\n",
    "\n",
    "# Merge vectorized text vector with dataframe\n",
    "df_text = pd.DataFrame(text_vector.toarray())\n",
    "df_concatenation = pd.concat([df_merge, df_text], axis=1)\n",
    "\n",
    "business_names = []\n",
    "\n",
    "business_names = df_concatenation['name']\n",
    "# drop unnecessary columns for neural network\n",
    "df_for_nn = df_concatenation.drop(['business_id','text','name'], axis=1) # drop unnecessary columns for neural network\n",
    "\n",
    "#collumn = 0 \n",
    "#for x in range(1000):\n",
    "#    encode_numeric_zscore(df_for_nn, x)\n",
    "\n",
    "print(df_for_nn)"
   ]
  },
  {
   "cell_type": "code",
   "execution_count": 20,
   "metadata": {},
   "outputs": [],
   "source": [
    "x,y = to_xy(df_for_nn,\"stars\")\n",
    "x_train, x_test, y_train, y_test = train_test_split (x, y, test_size=0., random_state=45)"
   ]
  },
  {
   "cell_type": "code",
   "execution_count": 46,
   "metadata": {},
   "outputs": [],
   "source": [
    "\n",
    "hf = h5py.File('best_weights.hdf5', 'w')\n",
    "\n",
    "\n",
    "hf.close()"
   ]
  },
  {
   "cell_type": "code",
   "execution_count": 34,
   "metadata": {},
   "outputs": [
    {
     "name": "stdout",
     "output_type": "stream",
     "text": [
      "Epoch 1/1000\n",
      "1/1 - 0s - loss: 15.7863 - val_loss: 12.6405\n",
      "Epoch 2/1000\n",
      "1/1 - 0s - loss: 12.9765 - val_loss: 11.0724\n",
      "Epoch 3/1000\n",
      "1/1 - 0s - loss: 10.6256 - val_loss: 9.7226\n",
      "Epoch 4/1000\n",
      "1/1 - 0s - loss: 8.6239 - val_loss: 8.5534\n",
      "Epoch 5/1000\n",
      "1/1 - 0s - loss: 6.9125 - val_loss: 7.5442\n",
      "Epoch 6/1000\n",
      "1/1 - 0s - loss: 5.4583 - val_loss: 6.6817\n",
      "Epoch 7/1000\n",
      "1/1 - 0s - loss: 4.2399 - val_loss: 5.9551\n",
      "Epoch 8/1000\n",
      "1/1 - 0s - loss: 3.2383 - val_loss: 5.3534\n",
      "Epoch 9/1000\n",
      "1/1 - 0s - loss: 2.4332 - val_loss: 4.8636\n",
      "Epoch 10/1000\n",
      "1/1 - 0s - loss: 1.8015 - val_loss: 4.4717\n",
      "Epoch 11/1000\n",
      "1/1 - 0s - loss: 1.3176 - val_loss: 4.1627\n",
      "Epoch 12/1000\n",
      "1/1 - 0s - loss: 0.9553 - val_loss: 3.9223\n",
      "Epoch 13/1000\n",
      "1/1 - 0s - loss: 0.6898 - val_loss: 3.7369\n",
      "Epoch 14/1000\n",
      "1/1 - 0s - loss: 0.4988 - val_loss: 3.5949\n",
      "Epoch 15/1000\n",
      "1/1 - 0s - loss: 0.3634 - val_loss: 3.4866\n",
      "Epoch 16/1000\n",
      "1/1 - 0s - loss: 0.2685 - val_loss: 3.4042\n",
      "Epoch 17/1000\n",
      "1/1 - 0s - loss: 0.2024 - val_loss: 3.3413\n",
      "Epoch 18/1000\n",
      "1/1 - 0s - loss: 0.1566 - val_loss: 3.2934\n",
      "Epoch 19/1000\n",
      "1/1 - 0s - loss: 0.1246 - val_loss: 3.2567\n",
      "Epoch 20/1000\n",
      "1/1 - 0s - loss: 0.1021 - val_loss: 3.2285\n",
      "Epoch 21/1000\n",
      "1/1 - 0s - loss: 0.0861 - val_loss: 3.2068\n",
      "Epoch 22/1000\n",
      "1/1 - 0s - loss: 0.0743 - val_loss: 3.1901\n",
      "Epoch 23/1000\n",
      "1/1 - 0s - loss: 0.0655 - val_loss: 3.1771\n",
      "Epoch 24/1000\n",
      "1/1 - 0s - loss: 0.0586 - val_loss: 3.1671\n",
      "Epoch 25/1000\n",
      "1/1 - 0s - loss: 0.0531 - val_loss: 3.1594\n",
      "Epoch 26/1000\n",
      "1/1 - 0s - loss: 0.0486 - val_loss: 3.1534\n",
      "Epoch 27/1000\n",
      "1/1 - 0s - loss: 0.0447 - val_loss: 3.1488\n",
      "Epoch 28/1000\n",
      "1/1 - 0s - loss: 0.0413 - val_loss: 3.1452\n",
      "Epoch 29/1000\n",
      "1/1 - 0s - loss: 0.0383 - val_loss: 3.1425\n",
      "Epoch 30/1000\n",
      "1/1 - 0s - loss: 0.0356 - val_loss: 3.1405\n",
      "Epoch 31/1000\n",
      "1/1 - 0s - loss: 0.0332 - val_loss: 3.1390\n",
      "Epoch 32/1000\n",
      "1/1 - 0s - loss: 0.0309 - val_loss: 3.1379\n",
      "Epoch 33/1000\n",
      "1/1 - 0s - loss: 0.0288 - val_loss: 3.1371\n",
      "Epoch 34/1000\n",
      "1/1 - 0s - loss: 0.0269 - val_loss: 3.1366\n",
      "Epoch 35/1000\n",
      "1/1 - 0s - loss: 0.0251 - val_loss: 3.1362\n",
      "Epoch 36/1000\n",
      "1/1 - 0s - loss: 0.0234 - val_loss: 3.1361\n",
      "Epoch 37/1000\n",
      "1/1 - 0s - loss: 0.0218 - val_loss: 3.1360\n",
      "Epoch 00037: early stopping\n"
     ]
    },
    {
     "ename": "OSError",
     "evalue": "Unable to open file (unable to open file: name = 'dnn/best_weights.hdf5', errno = 2, error message = 'No such file or directory', flags = 0, o_flags = 0)",
     "output_type": "error",
     "traceback": [
      "\u001b[0;31m---------------------------------------------------------------------------\u001b[0m",
      "\u001b[0;31mOSError\u001b[0m                                   Traceback (most recent call last)",
      "\u001b[0;32m<ipython-input-34-444eac7d2bd8>\u001b[0m in \u001b[0;36m<module>\u001b[0;34m\u001b[0m\n\u001b[1;32m     16\u001b[0m \u001b[0mmodel\u001b[0m\u001b[0;34m.\u001b[0m\u001b[0mfit\u001b[0m\u001b[0;34m(\u001b[0m\u001b[0mx_train\u001b[0m\u001b[0;34m,\u001b[0m\u001b[0my_train\u001b[0m\u001b[0;34m,\u001b[0m \u001b[0mvalidation_data\u001b[0m\u001b[0;34m=\u001b[0m\u001b[0;34m(\u001b[0m\u001b[0mx_test\u001b[0m\u001b[0;34m,\u001b[0m\u001b[0my_test\u001b[0m\u001b[0;34m)\u001b[0m\u001b[0;34m,\u001b[0m\u001b[0mcallbacks\u001b[0m\u001b[0;34m=\u001b[0m\u001b[0;34m[\u001b[0m\u001b[0mmonitor\u001b[0m\u001b[0;34m,\u001b[0m\u001b[0mcheckpointer\u001b[0m\u001b[0;34m]\u001b[0m\u001b[0;34m,\u001b[0m\u001b[0mverbose\u001b[0m\u001b[0;34m=\u001b[0m\u001b[0;36m2\u001b[0m\u001b[0;34m,\u001b[0m\u001b[0mepochs\u001b[0m\u001b[0;34m=\u001b[0m\u001b[0;36m1000\u001b[0m\u001b[0;34m)\u001b[0m    \u001b[0;31m# Verbosity mode. 0 = silent, 1 = progress bar, 2 = one line per epoch.\u001b[0m\u001b[0;34m\u001b[0m\u001b[0;34m\u001b[0m\u001b[0m\n\u001b[1;32m     17\u001b[0m \u001b[0;34m\u001b[0m\u001b[0m\n\u001b[0;32m---> 18\u001b[0;31m \u001b[0mmodel\u001b[0m\u001b[0;34m.\u001b[0m\u001b[0mload_weights\u001b[0m\u001b[0;34m(\u001b[0m\u001b[0;34m'dnn/best_weights.hdf5'\u001b[0m\u001b[0;34m)\u001b[0m\u001b[0;34m\u001b[0m\u001b[0;34m\u001b[0m\u001b[0m\n\u001b[0m",
      "\u001b[0;32m~/opt/anaconda3/lib/python3.8/site-packages/tensorflow/python/keras/engine/training.py\u001b[0m in \u001b[0;36mload_weights\u001b[0;34m(self, filepath, by_name, skip_mismatch, options)\u001b[0m\n\u001b[1;32m   2202\u001b[0m           'first, then load the weights.')\n\u001b[1;32m   2203\u001b[0m     \u001b[0mself\u001b[0m\u001b[0;34m.\u001b[0m\u001b[0m_assert_weights_created\u001b[0m\u001b[0;34m(\u001b[0m\u001b[0;34m)\u001b[0m\u001b[0;34m\u001b[0m\u001b[0;34m\u001b[0m\u001b[0m\n\u001b[0;32m-> 2204\u001b[0;31m     \u001b[0;32mwith\u001b[0m \u001b[0mh5py\u001b[0m\u001b[0;34m.\u001b[0m\u001b[0mFile\u001b[0m\u001b[0;34m(\u001b[0m\u001b[0mfilepath\u001b[0m\u001b[0;34m,\u001b[0m \u001b[0;34m'r'\u001b[0m\u001b[0;34m)\u001b[0m \u001b[0;32mas\u001b[0m \u001b[0mf\u001b[0m\u001b[0;34m:\u001b[0m\u001b[0;34m\u001b[0m\u001b[0;34m\u001b[0m\u001b[0m\n\u001b[0m\u001b[1;32m   2205\u001b[0m       \u001b[0;32mif\u001b[0m \u001b[0;34m'layer_names'\u001b[0m \u001b[0;32mnot\u001b[0m \u001b[0;32min\u001b[0m \u001b[0mf\u001b[0m\u001b[0;34m.\u001b[0m\u001b[0mattrs\u001b[0m \u001b[0;32mand\u001b[0m \u001b[0;34m'model_weights'\u001b[0m \u001b[0;32min\u001b[0m \u001b[0mf\u001b[0m\u001b[0;34m:\u001b[0m\u001b[0;34m\u001b[0m\u001b[0;34m\u001b[0m\u001b[0m\n\u001b[1;32m   2206\u001b[0m         \u001b[0mf\u001b[0m \u001b[0;34m=\u001b[0m \u001b[0mf\u001b[0m\u001b[0;34m[\u001b[0m\u001b[0;34m'model_weights'\u001b[0m\u001b[0;34m]\u001b[0m\u001b[0;34m\u001b[0m\u001b[0;34m\u001b[0m\u001b[0m\n",
      "\u001b[0;32m~/opt/anaconda3/lib/python3.8/site-packages/h5py/_hl/files.py\u001b[0m in \u001b[0;36m__init__\u001b[0;34m(self, name, mode, driver, libver, userblock_size, swmr, rdcc_nslots, rdcc_nbytes, rdcc_w0, track_order, **kwds)\u001b[0m\n\u001b[1;32m    404\u001b[0m             \u001b[0;32mwith\u001b[0m \u001b[0mphil\u001b[0m\u001b[0;34m:\u001b[0m\u001b[0;34m\u001b[0m\u001b[0;34m\u001b[0m\u001b[0m\n\u001b[1;32m    405\u001b[0m                 \u001b[0mfapl\u001b[0m \u001b[0;34m=\u001b[0m \u001b[0mmake_fapl\u001b[0m\u001b[0;34m(\u001b[0m\u001b[0mdriver\u001b[0m\u001b[0;34m,\u001b[0m \u001b[0mlibver\u001b[0m\u001b[0;34m,\u001b[0m \u001b[0mrdcc_nslots\u001b[0m\u001b[0;34m,\u001b[0m \u001b[0mrdcc_nbytes\u001b[0m\u001b[0;34m,\u001b[0m \u001b[0mrdcc_w0\u001b[0m\u001b[0;34m,\u001b[0m \u001b[0;34m**\u001b[0m\u001b[0mkwds\u001b[0m\u001b[0;34m)\u001b[0m\u001b[0;34m\u001b[0m\u001b[0;34m\u001b[0m\u001b[0m\n\u001b[0;32m--> 406\u001b[0;31m                 fid = make_fid(name, mode, userblock_size,\n\u001b[0m\u001b[1;32m    407\u001b[0m                                \u001b[0mfapl\u001b[0m\u001b[0;34m,\u001b[0m \u001b[0mfcpl\u001b[0m\u001b[0;34m=\u001b[0m\u001b[0mmake_fcpl\u001b[0m\u001b[0;34m(\u001b[0m\u001b[0mtrack_order\u001b[0m\u001b[0;34m=\u001b[0m\u001b[0mtrack_order\u001b[0m\u001b[0;34m)\u001b[0m\u001b[0;34m,\u001b[0m\u001b[0;34m\u001b[0m\u001b[0;34m\u001b[0m\u001b[0m\n\u001b[1;32m    408\u001b[0m                                swmr=swmr)\n",
      "\u001b[0;32m~/opt/anaconda3/lib/python3.8/site-packages/h5py/_hl/files.py\u001b[0m in \u001b[0;36mmake_fid\u001b[0;34m(name, mode, userblock_size, fapl, fcpl, swmr)\u001b[0m\n\u001b[1;32m    171\u001b[0m         \u001b[0;32mif\u001b[0m \u001b[0mswmr\u001b[0m \u001b[0;32mand\u001b[0m \u001b[0mswmr_support\u001b[0m\u001b[0;34m:\u001b[0m\u001b[0;34m\u001b[0m\u001b[0;34m\u001b[0m\u001b[0m\n\u001b[1;32m    172\u001b[0m             \u001b[0mflags\u001b[0m \u001b[0;34m|=\u001b[0m \u001b[0mh5f\u001b[0m\u001b[0;34m.\u001b[0m\u001b[0mACC_SWMR_READ\u001b[0m\u001b[0;34m\u001b[0m\u001b[0;34m\u001b[0m\u001b[0m\n\u001b[0;32m--> 173\u001b[0;31m         \u001b[0mfid\u001b[0m \u001b[0;34m=\u001b[0m \u001b[0mh5f\u001b[0m\u001b[0;34m.\u001b[0m\u001b[0mopen\u001b[0m\u001b[0;34m(\u001b[0m\u001b[0mname\u001b[0m\u001b[0;34m,\u001b[0m \u001b[0mflags\u001b[0m\u001b[0;34m,\u001b[0m \u001b[0mfapl\u001b[0m\u001b[0;34m=\u001b[0m\u001b[0mfapl\u001b[0m\u001b[0;34m)\u001b[0m\u001b[0;34m\u001b[0m\u001b[0;34m\u001b[0m\u001b[0m\n\u001b[0m\u001b[1;32m    174\u001b[0m     \u001b[0;32melif\u001b[0m \u001b[0mmode\u001b[0m \u001b[0;34m==\u001b[0m \u001b[0;34m'r+'\u001b[0m\u001b[0;34m:\u001b[0m\u001b[0;34m\u001b[0m\u001b[0;34m\u001b[0m\u001b[0m\n\u001b[1;32m    175\u001b[0m         \u001b[0mfid\u001b[0m \u001b[0;34m=\u001b[0m \u001b[0mh5f\u001b[0m\u001b[0;34m.\u001b[0m\u001b[0mopen\u001b[0m\u001b[0;34m(\u001b[0m\u001b[0mname\u001b[0m\u001b[0;34m,\u001b[0m \u001b[0mh5f\u001b[0m\u001b[0;34m.\u001b[0m\u001b[0mACC_RDWR\u001b[0m\u001b[0;34m,\u001b[0m \u001b[0mfapl\u001b[0m\u001b[0;34m=\u001b[0m\u001b[0mfapl\u001b[0m\u001b[0;34m)\u001b[0m\u001b[0;34m\u001b[0m\u001b[0;34m\u001b[0m\u001b[0m\n",
      "\u001b[0;32mh5py/_objects.pyx\u001b[0m in \u001b[0;36mh5py._objects.with_phil.wrapper\u001b[0;34m()\u001b[0m\n",
      "\u001b[0;32mh5py/_objects.pyx\u001b[0m in \u001b[0;36mh5py._objects.with_phil.wrapper\u001b[0;34m()\u001b[0m\n",
      "\u001b[0;32mh5py/h5f.pyx\u001b[0m in \u001b[0;36mh5py.h5f.open\u001b[0;34m()\u001b[0m\n",
      "\u001b[0;31mOSError\u001b[0m: Unable to open file (unable to open file: name = 'dnn/best_weights.hdf5', errno = 2, error message = 'No such file or directory', flags = 0, o_flags = 0)"
     ]
    }
   ],
   "source": [
    "model = Sequential()\n",
    "\n",
    "model.add(Dense(500, input_dim=x.shape[1], activation='tanh'))\n",
    "# model.add(Dense(250, activation='relu'))\n",
    "# model.add(Dense(125, activation='relu'))\n",
    "model.add(Dense(1))\n",
    "#hf = h5py.File('best_weights.hdf5', 'w')\n",
    "\n",
    "model.compile(loss='mean_squared_error', optimizer='sgd')\n",
    "\n",
    "monitor = EarlyStopping(monitor='val_loss', min_delta=1e-3, patience=3, verbose=1, mode='auto')\n",
    "\n",
    "checkpointer = ModelCheckpoint(filepath=\"dnn/best_weights.hdf5\", verbose=0, save_best_only=True) # save best model\n",
    "\n",
    "\n",
    "model.fit(x_train,y_train, validation_data=(x_test,y_test),callbacks=[monitor,checkpointer],verbose=2,epochs=1000)    # Verbosity mode. 0 = silent, 1 = progress bar, 2 = one line per epoch.\n",
    "\n",
    "model.load_weights('dnn/best_weights.hdf5')"
   ]
  },
  {
   "cell_type": "code",
   "execution_count": 28,
   "metadata": {},
   "outputs": [
    {
     "name": "stdout",
     "output_type": "stream",
     "text": [
      "Shape: (2, 1)\n",
      "[[2.8593433]\n",
      " [3.0673978]]\n",
      "[[4.350625 ]\n",
      " [3.6528072]]\n"
     ]
    }
   ],
   "source": [
    "pred_test = model.predict(x_test)\n",
    "print(\"Shape: {}\".format(pred_test.shape))\n",
    "print(pred_test)\n",
    "\n",
    "pred_train = model.predict(x_train)\n",
    "print(pred_train)"
   ]
  },
  {
   "cell_type": "code",
   "execution_count": null,
   "metadata": {},
   "outputs": [],
   "source": []
  },
  {
   "cell_type": "code",
   "execution_count": 29,
   "metadata": {},
   "outputs": [
    {
     "name": "stdout",
     "output_type": "stream",
     "text": [
      "Final score (RMSE): 1.6914119720458984\n"
     ]
    }
   ],
   "source": [
    "# Measure RMSE error.  RMSE is common for regression.\n",
    "score = np.sqrt(metrics.mean_squared_error(pred_test,y_test))\n",
    "print(\"Final score (RMSE): {}\".format(score))"
   ]
  },
  {
   "cell_type": "code",
   "execution_count": null,
   "metadata": {},
   "outputs": [],
   "source": []
  },
  {
   "cell_type": "code",
   "execution_count": 30,
   "metadata": {},
   "outputs": [
    {
     "name": "stdout",
     "output_type": "stream",
     "text": [
      "1. Business Name: Water Heater Pros, Star Rating: 5.0, predicted Star Rating: [2.8593433]\n",
      "2. Business Name: Hooters, Star Rating: 2.0, predicted Star Rating: [3.0673978]\n",
      "2. Business Name: Hooters, Star Rating: 2.0, predicted Star Rating: [4.350625]\n",
      "3. Business Name: Cheyenne West Animal Hospital, Star Rating: 4.5, predicted Star Rating: [3.6528072]\n"
     ]
    }
   ],
   "source": [
    "for i in range(pred_test.shape[0]):\n",
    "    print(\"{}. Business Name: {}, Star Rating: {}, predicted Star Rating: {}\".format(i+1,business_names[i],y[i],pred_test[i]))\n",
    "    \n",
    "for i in range(pred_train.shape[0]):\n",
    "    print(\"{}. Business Name: {}, Star Rating: {}, predicted Star Rating: {}\".format(i+2,business_names[i+1],y[i+1],pred_train[i]))"
   ]
  },
  {
   "cell_type": "code",
   "execution_count": 25,
   "metadata": {},
   "outputs": [
    {
     "data": {
      "text/html": [
       "<div>\n",
       "<style scoped>\n",
       "    .dataframe tbody tr th:only-of-type {\n",
       "        vertical-align: middle;\n",
       "    }\n",
       "\n",
       "    .dataframe tbody tr th {\n",
       "        vertical-align: top;\n",
       "    }\n",
       "\n",
       "    .dataframe thead th {\n",
       "        text-align: right;\n",
       "    }\n",
       "</style>\n",
       "<table border=\"1\" class=\"dataframe\">\n",
       "  <thead>\n",
       "    <tr style=\"text-align: right;\">\n",
       "      <th></th>\n",
       "      <th>ground_truth</th>\n",
       "      <th>predicted</th>\n",
       "    </tr>\n",
       "  </thead>\n",
       "  <tbody>\n",
       "    <tr>\n",
       "      <th>0</th>\n",
       "      <td>5.0</td>\n",
       "      <td>2.934777</td>\n",
       "    </tr>\n",
       "    <tr>\n",
       "      <th>1</th>\n",
       "      <td>2.0</td>\n",
       "      <td>3.072745</td>\n",
       "    </tr>\n",
       "  </tbody>\n",
       "</table>\n",
       "</div>"
      ],
      "text/plain": [
       "   ground_truth  predicted\n",
       "0           5.0   2.934777\n",
       "1           2.0   3.072745"
      ]
     },
     "execution_count": 25,
     "metadata": {},
     "output_type": "execute_result"
    }
   ],
   "source": [
    "# print out prediction\n",
    "df_y = pd.DataFrame(y_test, columns=['ground_truth'])\n",
    "df_pred = pd.DataFrame(pred_test, columns=['predicted'])\n",
    "result = pd.concat([df_y, df_pred],axis=1)\n",
    "result"
   ]
  },
  {
   "cell_type": "code",
   "execution_count": 26,
   "metadata": {},
   "outputs": [
    {
     "data": {
      "image/png": "[encoded data removed]",
      "text/plain": [
       "<Figure size 432x288 with 1 Axes>"
      ]
     },
     "metadata": {
      "needs_background": "light"
     },
     "output_type": "display_data"
    }
   ],
   "source": [
    "chart_regression(pred_test.flatten(),y_test, sort=True)"
   ]
  },
  {
   "cell_type": "code",
   "execution_count": null,
   "metadata": {},
   "outputs": [],
   "source": []
  }
 ],
 "metadata": {
  "kernelspec": {
   "display_name": "Python 3",
   "language": "python",
   "name": "python3"
  },
  "language_info": {
   "codemirror_mode": {
    "name": "ipython",
    "version": 3
   },
   "file_extension": ".py",
   "mimetype": "text/x-python",
   "name": "python",
   "nbconvert_exporter": "python",
   "pygments_lexer": "ipython3",
   "version": "3.8.3"
  }
 },
 "nbformat": 4,
 "nbformat_minor": 4
}

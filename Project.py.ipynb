{
 "cells": [
  {
   "cell_type": "code",
   "execution_count": 1,
   "metadata": {},
   "outputs": [],
   "source": [
    "import json\n",
    "import csv\n",
    "import pandas as pd"
   ]
  },
  {
   "cell_type": "code",
   "execution_count": 6,
   "metadata": {},
   "outputs": [
    {
     "name": "stdout",
     "output_type": "stream",
     "text": [
      "                  business_id                           name  stars  \\\n",
      "0      f9NumwFMBDn751xgFiRbNA       The Range At Lake Norman    3.5   \n",
      "1      51M2Kk903DFYI6gnB5I6SQ        USE MY GUY SERVICES LLC    4.5   \n",
      "2      cKyLV5oWZJ2NudWgqs8VZw    Oasis Auto Center - Gilbert    4.5   \n",
      "3      oiAlXZPIFm2nBCt0DHLu_Q           Green World Cleaners    3.5   \n",
      "4      uZuh51lXu7tsrC8RAwkg1A                 Manolo Blahnik    4.5   \n",
      "...                       ...                            ...    ...   \n",
      "63848  YZeUH6zYS0dq5QHLYZhUnQ                        Hooters    2.0   \n",
      "63849  xVpE01l6ZXdEtVf5PkRpDg                          Julep    4.0   \n",
      "63850  fNil19SUfPAPnLQrYnFrGQ  Cheyenne West Animal Hospital    4.5   \n",
      "63851  JjcJVqhZXhP4tvOhg3fnag              Water Heater Pros    5.0   \n",
      "63852  SYa2j1boLF8DcGVOYfHPcA                      Five Guys    3.5   \n",
      "\n",
      "                                                category  \n",
      "0      Active Life, Gun/Rifle Ranges, Guns & Ammo, Sh...  \n",
      "1      Home Services, Plumbing, Electricians, Handyma...  \n",
      "2      Auto Repair, Automotive, Oil Change Stations, ...  \n",
      "3      Dry Cleaning & Laundry, Local Services, Laundr...  \n",
      "4                         Shopping, Shoe Stores, Fashion  \n",
      "...                                                  ...  \n",
      "63848  Nightlife, American (Traditional), Chicken Win...  \n",
      "63849     Nightlife, Diners, Bars, Southern, Restaurants  \n",
      "63850     Pets, Pet Sitting, Veterinarians, Pet Services  \n",
      "63851  Contractors, Local Services, Appliances & Repa...  \n",
      "63852  American (New), Food, Burgers, Restaurants, Fa...  \n",
      "\n",
      "[63853 rows x 4 columns]\n"
     ]
    }
   ],
   "source": [
    "#  tsv output file for cleaned up business json dataset\n",
    "outfile = open(\"businesses.tsv\", 'w')\n",
    "businessfile = csv.writer(outfile, delimiter =\"\\t\", quoting=csv.QUOTE_MINIMAL) \n",
    "businessfile.writerow(['business_id','name', 'stars', 'category'])\n",
    "\n",
    "# Opens json dataset from path. \n",
    "with open('yelp_dataset/yelp_academic_dataset_business.json', encoding=\"utf-8\") as f: \n",
    "    for line in f:\n",
    "        row = json.loads(line)\n",
    "        # Only getting businesses with review count over 20\n",
    "        if row['review_count'] > 20:\n",
    "            # some special char must be encoded in 'utf-8' \n",
    "            businessfile.writerow([row['business_id'], row['name'], row['stars'], row['categories']])\n",
    "\n",
    "# Close tsv file\n",
    "outfile.close()\n",
    "\n",
    "# Create pandas dataframe tsv output file\n",
    "df = pd.read_csv('businesses.tsv', delimiter =\"\\t\", encoding=\"utf-8\")\n",
    "\n",
    "print(df)"
   ]
  },
  {
   "cell_type": "code",
   "execution_count": null,
   "metadata": {},
   "outputs": [],
   "source": [
    "#  tsv output file for cleaned up review json dataset\n",
    "outfile = open(\"review_stars.tsv\", 'w')\n",
    "sfile = csv.writer(outfile, delimiter =\"\\t\", quoting=csv.QUOTE_MINIMAL) \n",
    "sfile.writerow(['business_id','stars', 'text'])\n",
    "\n",
    "# Opens json dataset from path. \n",
    "with open('yelp_dataset/yelp_academic_dataset_review.json', encoding=\"utf-8\") as f: \n",
    "    for line in f:\n",
    "        row = json.loads(line)\n",
    "        # some special char must be encoded in 'utf-8' \n",
    "        sfile.writerow([row['business_id'], row['stars'], (row['text']).encode('utf-8')])\n",
    "\n",
    "# Close tsv file\n",
    "outfile.close()\n",
    "\n",
    "# Create pandas dataframe tsv output file\n",
    "df = pd.read_csv('review_stars.tsv', delimiter =\"\\t\", encoding=\"utf-8\")"
   ]
  }
 ],
 "metadata": {
  "kernelspec": {
   "display_name": "Python 3",
   "language": "python",
   "name": "python3"
  },
  "language_info": {
   "codemirror_mode": {
    "name": "ipython",
    "version": 3
   },
   "file_extension": ".py",
   "mimetype": "text/x-python",
   "name": "python",
   "nbconvert_exporter": "python",
   "pygments_lexer": "ipython3",
   "version": "3.7.4"
  }
 },
 "nbformat": 4,
 "nbformat_minor": 2
}

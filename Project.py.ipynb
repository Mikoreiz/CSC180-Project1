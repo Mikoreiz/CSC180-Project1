{
 "cells": [
  {
   "cell_type": "code",
   "execution_count": 1,
   "metadata": {},
   "outputs": [],
   "source": [
    "import json\n",
    "import csv\n",
    "import pandas as pd\n",
    "from sklearn import preprocessing\n",
    "import numpy as np\n",
    "import os\n",
    "from collections.abc import Sequence\n",
    "import matplotlib.pyplot as plt\n",
    "from matplotlib.pyplot import figure, show\n",
    "import sklearn.feature_extraction.text as sk_text\n",
    "from sklearn import metrics\n",
    "import tensorflow.keras \n",
    "from tensorflow.keras.models import Sequential\n",
    "from sklearn.model_selection import train_test_split\n",
    "from tensorflow.keras.layers import Dense, Activation\n",
    "from tensorflow.keras.callbacks import EarlyStopping , ModelCheckpoint\n",
    "from collections import Counter\n",
    "from datetime import datetime\n",
    "import h5py\n"
   ]
  },
  {
   "cell_type": "code",
   "execution_count": 2,
   "metadata": {},
   "outputs": [],
   "source": [
    "### HELPER FUNCTIONS ###\n",
    "\n",
    "# Encode text values to indexes(i.e. [1],[2],[3] for red,green,blue).\n",
    "def encode_text_index(df, name):\n",
    "    le = preprocessing.LabelEncoder()\n",
    "    df[name] = le.fit_transform(df[name])\n",
    "    return le.classes_\n",
    "\n",
    "def encode_numeric_zscore(df, name, mean=None, sd=None):\n",
    "    if mean is None:\n",
    "        mean = df[name].mean()\n",
    "\n",
    "    if sd is None:\n",
    "        sd = df[name].std()\n",
    "\n",
    "    df[name] = (df[name] - mean) / sd\n",
    "    \n",
    "def chart_regression(pred,y,sort=True):\n",
    "    t = pd.DataFrame({'pred' : pred, 'y' : y.flatten()})\n",
    "    if sort:\n",
    "        t.sort_values(by=['y'],inplace=True)\n",
    "    a = plt.plot(t['y'].tolist(),label='expected')\n",
    "    b = plt.plot(t['pred'].tolist(),label='prediction')\n",
    "    plt.ylabel('output')\n",
    "    plt.legend()\n",
    "    plt.show()\n",
    "\n",
    "\n",
    "def to_xy(df, target):\n",
    "    result = []\n",
    "    for x in df.columns:\n",
    "        if x != target:\n",
    "            result.append(x)\n",
    "    # find out the type of the target column. \n",
    "    target_type = df[target].dtypes\n",
    "    target_type = target_type[0] if isinstance(target_type, Sequence) else target_type\n",
    "    # Encode to int for classification, float otherwise. TensorFlow likes 32 bits.\n",
    "    if target_type in (np.int64, np.int32):\n",
    "        # Classification\n",
    "        dummies = pd.get_dummies(df[target])\n",
    "        return df[result].values.astype(np.float32), dummies.values.astype(np.float32)\n",
    "    else:\n",
    "        # Regression\n",
    "        return df[result].values.astype(np.float32), df[target].values.astype(np.float32)"
   ]
  },
  {
   "cell_type": "code",
   "execution_count": 3,
   "metadata": {},
   "outputs": [
    {
     "name": "stdout",
     "output_type": "stream",
     "text": [
      "                  business_id  stars                           name\n",
      "0      f9NumwFMBDn751xgFiRbNA    3.5       The Range At Lake Norman\n",
      "1      51M2Kk903DFYI6gnB5I6SQ    4.5        USE MY GUY SERVICES LLC\n",
      "2      cKyLV5oWZJ2NudWgqs8VZw    4.5    Oasis Auto Center - Gilbert\n",
      "3      oiAlXZPIFm2nBCt0DHLu_Q    3.5           Green World Cleaners\n",
      "4      uZuh51lXu7tsrC8RAwkg1A    4.5                 Manolo Blahnik\n",
      "...                       ...    ...                            ...\n",
      "63848  YZeUH6zYS0dq5QHLYZhUnQ    2.0                        Hooters\n",
      "63849  xVpE01l6ZXdEtVf5PkRpDg    4.0                          Julep\n",
      "63850  fNil19SUfPAPnLQrYnFrGQ    4.5  Cheyenne West Animal Hospital\n",
      "63851  JjcJVqhZXhP4tvOhg3fnag    5.0              Water Heater Pros\n",
      "63852  SYa2j1boLF8DcGVOYfHPcA    3.5                      Five Guys\n",
      "\n",
      "[63853 rows x 3 columns]\n"
     ]
    }
   ],
   "source": [
    "#  tsv output file for cleaned up business json dataset\n",
    "outfile = open(\"businesses.tsv\", 'w')\n",
    "businessfile = csv.writer(outfile, delimiter =\"\\t\", quoting=csv.QUOTE_MINIMAL) \n",
    "businessfile.writerow(['business_id','name', 'stars', 'category'])\n",
    "\n",
    "# Opens json dataset from path. \n",
    "with open('yelp_dataset/yelp_academic_dataset_business.json', encoding=\"utf-8\") as f: \n",
    "    for line in f:\n",
    "        row = json.loads(line)\n",
    "        # Only getting businesses with review count over 20\n",
    "        if row['review_count'] > 20:\n",
    "            # some special char must be encoded in 'utf-8' \n",
    "            businessfile.writerow([row['business_id'], row['name'], row['stars'], row['categories']])\n",
    "\n",
    "# Close tsv file\n",
    "outfile.close()\n",
    "\n",
    "# Create pandas dataframe tsv output file\n",
    "df_business = pd.read_csv('businesses.tsv', delimiter =\"\\t\", encoding=\"utf-8\")\n",
    "df_stars = df_business[['business_id', 'stars' , 'name']]\n",
    "\n",
    "print(df_stars)"
   ]
  },
  {
   "cell_type": "code",
   "execution_count": 4,
   "metadata": {},
   "outputs": [],
   "source": [
    "# dict for business_ids of businesses used for project\n",
    "# Will use this to search for the businesses chosen for project in the reviews json dataset\n",
    "# and add it to reviews tsv\n",
    "#chosen_business = { 'YZeUH6zYS0dq5QHLYZhUnQ':'Hooters', 'oiAlXZPIFm2nBCt0DHLu_Q': 'Green World Cleaners', 'fNil19SUfPAPnLQrYnFrGQ' :'Cheyenne West Animal Hospital',   'JjcJVqhZXhP4tvOhg3fnag' :'Water Heater Pros' }\n",
    "\n",
    "# 5, 4, 3, 2, 1\n",
    "chosen_business = {'3C0bnFhjkgYP9mWORKg6cA':'Chili Man', 'ZkzutF0P_u0C0yTulwaHkA':'Lelulos Pizzeria', '-LfTBo0oa_uD454ScEW2XA':'Merry Anns Diner','W7hCuNdn2gzehta6eSHzgQ':'Petes Fish & Chips', 'T0NKethAB-FFR05EeZCzuA':'Burger King', 'F7mv0e3N2DgYY93cl8LpZw':'Wendys'}\n",
    "\n",
    "#  tsv output file for cleaned up review json dataset\n",
    "outfile = open(\"review_stars.tsv\", 'w')\n",
    "sfile = csv.writer(outfile, delimiter =\"\\t\", quoting=csv.QUOTE_MINIMAL) \n",
    "sfile.writerow(['business_id','stars', 'text'])\n",
    "\n",
    "# Opens json dataset from path. \n",
    "with open('yelp_dataset/yelp_academic_dataset_review.json', encoding=\"utf-8\") as f: \n",
    "    for line in f:\n",
    "        row = json.loads(line)\n",
    "        # If statement to look for our chosen businesses\n",
    "        if row['business_id'] in chosen_business: \n",
    "            # some special char must be encoded in 'utf-8' \n",
    "            sfile.writerow( [row['business_id'], row['stars'], (row['text']).encode('utf-8')])\n",
    "        \n",
    "            \n",
    "\n",
    "# Close tsv file\n",
    "outfile.close()\n",
    "\n",
    "# Create pandas dataframe tsv output file\n",
    "df = pd.read_csv('review_stars.tsv', delimiter =\"\\t\", encoding=\"utf-8\")\n",
    "\n"
   ]
  },
  {
   "cell_type": "code",
   "execution_count": 5,
   "metadata": {},
   "outputs": [
    {
     "name": "stdout",
     "output_type": "stream",
     "text": [
      "              business_id                                               text  \\\n",
      "0  -LfTBo0oa_uD454ScEW2XA  b'I can\\'t help but feel that the foodies who ...   \n",
      "1  3C0bnFhjkgYP9mWORKg6cA  b'the BEST BEST hotdogs!! If you havent tried ...   \n",
      "2  F7mv0e3N2DgYY93cl8LpZw  b\"Bad service! Slow , food isn't always fresh....   \n",
      "3  T0NKethAB-FFR05EeZCzuA  b\"I don't know why I bother. After a log day a...   \n",
      "4  W7hCuNdn2gzehta6eSHzgQ  b\"Didn't care for our square fish or the sauce...   \n",
      "5  ZkzutF0P_u0C0yTulwaHkA  b'Stopped here with my wife due to the 18\" piz...   \n",
      "\n",
      "   stars                 name  \n",
      "0    3.0    Merry Ann's Diner  \n",
      "1    5.0            Chili Man  \n",
      "2    1.5              Wendy's  \n",
      "3    1.5          Burger King  \n",
      "4    2.0  Pete's Fish & Chips  \n",
      "5    4.0     Lelulos Pizzeria  \n",
      "   stars         0         1         2         3         4         5  \\\n",
      "0    3.0  0.006562  0.000000  0.000000  0.000000  0.017057  0.000000   \n",
      "1    5.0  0.007453  0.005753  0.010068  0.001678  0.003229  0.003357   \n",
      "2    1.5  0.042446  0.000000  0.024576  0.000000  0.036777  0.000000   \n",
      "3    1.5  0.083013  0.003845  0.007690  0.026922  0.020139  0.008974   \n",
      "4    2.0  0.021734  0.009438  0.006292  0.003671  0.023539  0.003671   \n",
      "5    4.0  0.000000  0.007480  0.000000  0.000000  0.005597  0.000000   \n",
      "\n",
      "          6         7         8  ...       990       991       992       993  \\\n",
      "0  0.000000  0.006562  0.115277  ...  0.006562  0.000000  0.007599  0.000000   \n",
      "1  0.001438  0.004968  0.000000  ...  0.008695  0.012122  0.001438  0.008630   \n",
      "2  0.024576  0.000000  0.000000  ...  0.000000  0.000000  0.000000  0.000000   \n",
      "3  0.000000  0.043167  0.017948  ...  0.043167  0.000000  0.011535  0.003845   \n",
      "4  0.003146  0.016300  0.011013  ...  0.016300  0.000000  0.006292  0.003146   \n",
      "5  0.007480  0.012919  0.000000  ...  0.019378  0.000000  0.000000  0.007480   \n",
      "\n",
      "        994       995       996       997       998       999  \n",
      "0  0.006562  0.000000  0.000000  0.000000  0.017735  0.000000  \n",
      "1  0.018632  0.012421  0.010071  0.006714  0.000000  0.000000  \n",
      "2  0.000000  0.042446  0.000000  0.000000  0.000000  0.000000  \n",
      "3  0.026564  0.013282  0.004487  0.004487  0.000000  0.049357  \n",
      "4  0.021734  0.008150  0.014685  0.007342  0.007342  0.003671  \n",
      "5  0.012919  0.006459  0.000000  0.000000  0.008729  0.017457  \n",
      "\n",
      "[6 rows x 1001 columns]\n"
     ]
    }
   ],
   "source": [
    "\n",
    "\n",
    "# Aggregate all reviews for each business into one column\n",
    "df_review_agg = df.groupby('business_id')['text'].sum()\n",
    "# Merge review dataframe with star rating from business dataframe using business_id\n",
    "df_merge = pd.merge(df_review_agg, df_stars, on='business_id')\n",
    "\n",
    "print(df_merge)\n",
    "\n",
    "# Tfidf vectorizer for text column\n",
    "vectorizer = sk_text.TfidfVectorizer(\n",
    "                             stop_words='english',\n",
    "                             max_features = 1000,\n",
    "                             min_df=1)\n",
    "text_vector = vectorizer.fit_transform(df_merge['text'])\n",
    "\n",
    "# Merge vectorized text vector with dataframe\n",
    "df_text = pd.DataFrame(text_vector.toarray())\n",
    "df_concatenation = pd.concat([df_merge, df_text], axis=1)\n",
    "\n",
    "business_names = []\n",
    "\n",
    "business_names = df_concatenation['name']\n",
    "# drop unnecessary columns for neural network\n",
    "df_for_nn = df_concatenation.drop(['business_id','text','name'], axis=1) # drop unnecessary columns for neural network\n",
    "\n",
    "print(df_for_nn)"
   ]
  },
  {
   "cell_type": "code",
   "execution_count": 6,
   "metadata": {},
   "outputs": [],
   "source": [
    "x,y = to_xy(df_for_nn,\"stars\")\n",
    "x_train, x_test, y_train, y_test = train_test_split (x, y, test_size=0.5, random_state=45)"
   ]
  },
  {
   "cell_type": "code",
   "execution_count": 2,
   "metadata": {},
   "outputs": [
    {
     "ename": "NameError",
     "evalue": "name 'h5py' is not defined",
     "output_type": "error",
     "traceback": [
      "\u001b[0;31m---------------------------------------------------------------------------\u001b[0m",
      "\u001b[0;31mNameError\u001b[0m                                 Traceback (most recent call last)",
      "\u001b[0;32m<ipython-input-2-8d3ad8274c94>\u001b[0m in \u001b[0;36m<module>\u001b[0;34m\u001b[0m\n\u001b[0;32m----> 1\u001b[0;31m \u001b[0mhf\u001b[0m \u001b[0;34m=\u001b[0m \u001b[0mh5py\u001b[0m\u001b[0;34m.\u001b[0m\u001b[0mFile\u001b[0m\u001b[0;34m(\u001b[0m\u001b[0;34m'best_weights.hdf5'\u001b[0m\u001b[0;34m,\u001b[0m \u001b[0;34m'w'\u001b[0m\u001b[0;34m)\u001b[0m\u001b[0;34m\u001b[0m\u001b[0;34m\u001b[0m\u001b[0m\n\u001b[0m\u001b[1;32m      2\u001b[0m \u001b[0;34m\u001b[0m\u001b[0m\n\u001b[1;32m      3\u001b[0m \u001b[0;34m\u001b[0m\u001b[0m\n\u001b[1;32m      4\u001b[0m \u001b[0mhf\u001b[0m\u001b[0;34m.\u001b[0m\u001b[0mclose\u001b[0m\u001b[0;34m(\u001b[0m\u001b[0;34m)\u001b[0m\u001b[0;34m\u001b[0m\u001b[0;34m\u001b[0m\u001b[0m\n",
      "\u001b[0;31mNameError\u001b[0m: name 'h5py' is not defined"
     ]
    }
   ],
   "source": [
    "\n",
    "hf = h5py.File('best_weights.hdf5', 'w')\n",
    "\n",
    "\n",
    "hf.close()"
   ]
  },
  {
   "cell_type": "code",
   "execution_count": 3,
   "metadata": {},
   "outputs": [
    {
     "ename": "NameError",
     "evalue": "name 'Sequential' is not defined",
     "output_type": "error",
     "traceback": [
      "\u001b[0;31m---------------------------------------------------------------------------\u001b[0m",
      "\u001b[0;31mNameError\u001b[0m                                 Traceback (most recent call last)",
      "\u001b[0;32m<ipython-input-3-8c31150d2d38>\u001b[0m in \u001b[0;36m<module>\u001b[0;34m\u001b[0m\n\u001b[0;32m----> 1\u001b[0;31m \u001b[0mmodel\u001b[0m \u001b[0;34m=\u001b[0m \u001b[0mSequential\u001b[0m\u001b[0;34m(\u001b[0m\u001b[0;34m)\u001b[0m\u001b[0;34m\u001b[0m\u001b[0;34m\u001b[0m\u001b[0m\n\u001b[0m\u001b[1;32m      2\u001b[0m \u001b[0;34m\u001b[0m\u001b[0m\n\u001b[1;32m      3\u001b[0m \u001b[0mmodel\u001b[0m\u001b[0;34m.\u001b[0m\u001b[0madd\u001b[0m\u001b[0;34m(\u001b[0m\u001b[0mDense\u001b[0m\u001b[0;34m(\u001b[0m\u001b[0;36m500\u001b[0m\u001b[0;34m,\u001b[0m \u001b[0minput_dim\u001b[0m\u001b[0;34m=\u001b[0m\u001b[0mx\u001b[0m\u001b[0;34m.\u001b[0m\u001b[0mshape\u001b[0m\u001b[0;34m[\u001b[0m\u001b[0;36m1\u001b[0m\u001b[0;34m]\u001b[0m\u001b[0;34m,\u001b[0m \u001b[0mactivation\u001b[0m\u001b[0;34m=\u001b[0m\u001b[0;34m'tanh'\u001b[0m\u001b[0;34m)\u001b[0m\u001b[0;34m)\u001b[0m\u001b[0;34m\u001b[0m\u001b[0;34m\u001b[0m\u001b[0m\n\u001b[1;32m      4\u001b[0m \u001b[0mmodel\u001b[0m\u001b[0;34m.\u001b[0m\u001b[0madd\u001b[0m\u001b[0;34m(\u001b[0m\u001b[0mDense\u001b[0m\u001b[0;34m(\u001b[0m\u001b[0;36m250\u001b[0m\u001b[0;34m,\u001b[0m \u001b[0mactivation\u001b[0m\u001b[0;34m=\u001b[0m\u001b[0;34m'sigmoid'\u001b[0m\u001b[0;34m)\u001b[0m\u001b[0;34m)\u001b[0m\u001b[0;34m\u001b[0m\u001b[0;34m\u001b[0m\u001b[0m\n\u001b[1;32m      5\u001b[0m \u001b[0mmodel\u001b[0m\u001b[0;34m.\u001b[0m\u001b[0madd\u001b[0m\u001b[0;34m(\u001b[0m\u001b[0mDense\u001b[0m\u001b[0;34m(\u001b[0m\u001b[0;36m125\u001b[0m\u001b[0;34m,\u001b[0m \u001b[0mactivation\u001b[0m\u001b[0;34m=\u001b[0m\u001b[0;34m'relu'\u001b[0m\u001b[0;34m)\u001b[0m\u001b[0;34m)\u001b[0m\u001b[0;34m\u001b[0m\u001b[0;34m\u001b[0m\u001b[0m\n",
      "\u001b[0;31mNameError\u001b[0m: name 'Sequential' is not defined"
     ]
    }
   ],
   "source": [
    "model = Sequential()\n",
    "\n",
    "model.add(Dense(500, input_dim=x.shape[1], activation='tanh'))\n",
    "model.add(Dense(250, activation='sigmoid'))\n",
    "model.add(Dense(125, activation='relu'))\n",
    "model.add(Dense(1))\n",
    "\n",
    "# model.add(Dense(500, input_dim=x.shape[1], activation='relu'))\n",
    "# model.add(Dense(500, input_dim=x.shape[1], activation='sigmoid'))\n",
    "# model.add(Dense(250, activation='relu'))\n",
    "# model.add(Dense(125, activation='relu'))\n",
    "\n",
    "\n",
    "\n",
    "# model.compile(loss='mean_squared_error', optimizer='sgd')\n",
    "model.compile(loss='mean_squared_error', optimizer='adam')\n",
    "\n",
    "monitor = EarlyStopping(monitor='val_loss', min_delta=1e-3, patience=3, verbose=2, mode='auto')\n",
    "\n",
    "checkpointer = ModelCheckpoint(filepath=\"dnn/best_weights.hdf5\", verbose=0, save_best_only=True) # save best model\n",
    "\n",
    "\n",
    "model.fit(x_train,y_train, validation_data=(x_test,y_test),callbacks=[monitor,checkpointer],verbose=2,epochs=1000)    # Verbosity mode. 0 = silent, 1 = progress bar, 2 = one line per epoch.\n",
    "\n",
    "model.load_weights('dnn/best_weights.hdf5')"
   ]
  },
  {
   "cell_type": "code",
   "execution_count": 9,
   "metadata": {},
   "outputs": [
    {
     "name": "stdout",
     "output_type": "stream",
     "text": [
      "Shape: (3, 1)\n",
      "[[2.6329334]\n",
      " [2.5836744]\n",
      " [2.6042163]]\n",
      "[[2.653879 ]\n",
      " [2.6550343]\n",
      " [2.667114 ]]\n"
     ]
    }
   ],
   "source": [
    "pred_test = model.predict(x_test)\n",
    "print(\"Shape: {}\".format(pred_test.shape))\n",
    "print(pred_test)\n",
    "\n",
    "pred_train = model.predict(x_train)\n",
    "\n",
    "print(pred_train)"
   ]
  },
  {
   "cell_type": "code",
   "execution_count": 10,
   "metadata": {},
   "outputs": [
    {
     "name": "stdout",
     "output_type": "stream",
     "text": [
      "Final score (RMSE): 1.5797936916351318\n"
     ]
    }
   ],
   "source": [
    "# Measure RMSE error.  RMSE is common for regression.\n",
    "score = np.sqrt(metrics.mean_squared_error(pred_test,y_test))\n",
    "print(\"Final score (RMSE): {}\".format(score))"
   ]
  },
  {
   "cell_type": "code",
   "execution_count": 11,
   "metadata": {},
   "outputs": [
    {
     "name": "stdout",
     "output_type": "stream",
     "text": [
      "1. Business Name: Merry Ann's Diner, Star Rating: 3.0, predicted Star Rating: [2.6329334]\n",
      "2. Business Name: Chili Man, Star Rating: 5.0, predicted Star Rating: [2.5836744]\n",
      "3. Business Name: Wendy's, Star Rating: 1.5, predicted Star Rating: [2.6042163]\n",
      "4. Business Name: Burger King, Star Rating: 1.5, predicted Star Rating: [2.653879]\n",
      "5. Business Name: Pete's Fish & Chips, Star Rating: 2.0, predicted Star Rating: [2.6550343]\n",
      "6. Business Name: Lelulos Pizzeria, Star Rating: 4.0, predicted Star Rating: [2.667114]\n"
     ]
    }
   ],
   "source": [
    "for i in range(pred_test.shape[0]):\n",
    "    print(\"{}. Business Name: {}, Star Rating: {}, predicted Star Rating: {}\".format(i+1,business_names[i],y[i],pred_test[i]))\n",
    "    \n",
    "for i in range(pred_train.shape[0]):\n",
    "    print(\"{}. Business Name: {}, Star Rating: {}, predicted Star Rating: {}\".format(i+4,business_names[i+3],y[i+3],pred_train[i]))"
   ]
  },
  {
   "cell_type": "code",
   "execution_count": 12,
   "metadata": {},
   "outputs": [
    {
     "data": {
      "text/html": [
       "<div>\n",
       "<style scoped>\n",
       "    .dataframe tbody tr th:only-of-type {\n",
       "        vertical-align: middle;\n",
       "    }\n",
       "\n",
       "    .dataframe tbody tr th {\n",
       "        vertical-align: top;\n",
       "    }\n",
       "\n",
       "    .dataframe thead th {\n",
       "        text-align: right;\n",
       "    }\n",
       "</style>\n",
       "<table border=\"1\" class=\"dataframe\">\n",
       "  <thead>\n",
       "    <tr style=\"text-align: right;\">\n",
       "      <th></th>\n",
       "      <th>ground_truth</th>\n",
       "      <th>predicted</th>\n",
       "    </tr>\n",
       "  </thead>\n",
       "  <tbody>\n",
       "    <tr>\n",
       "      <th>0</th>\n",
       "      <td>1.5</td>\n",
       "      <td>2.632933</td>\n",
       "    </tr>\n",
       "    <tr>\n",
       "      <th>1</th>\n",
       "      <td>5.0</td>\n",
       "      <td>2.583674</td>\n",
       "    </tr>\n",
       "    <tr>\n",
       "      <th>2</th>\n",
       "      <td>2.0</td>\n",
       "      <td>2.604216</td>\n",
       "    </tr>\n",
       "  </tbody>\n",
       "</table>\n",
       "</div>"
      ],
      "text/plain": [
       "   ground_truth  predicted\n",
       "0           1.5   2.632933\n",
       "1           5.0   2.583674\n",
       "2           2.0   2.604216"
      ]
     },
     "execution_count": 12,
     "metadata": {},
     "output_type": "execute_result"
    }
   ],
   "source": [
    "# print out prediction\n",
    "df_y = pd.DataFrame(y_test, columns=['ground_truth'])\n",
    "df_pred = pd.DataFrame(pred_test, columns=['predicted'])\n",
    "result = pd.concat([df_y, df_pred],axis=1)\n",
    "result"
   ]
  },
  {
   "cell_type": "code",
   "execution_count": 13,
   "metadata": {},
   "outputs": [
    {
     "data": {
      "image/png": "[encoded data removed]",
      "text/plain": [
       "<Figure size 432x288 with 1 Axes>"
      ]
     },
     "metadata": {
      "needs_background": "light"
     },
     "output_type": "display_data"
    }
   ],
   "source": [
    "chart_regression(pred_test.flatten(),y_test, sort=True)"
   ]
  },
  {
   "cell_type": "code",
   "execution_count": null,
   "metadata": {},
   "outputs": [],
   "source": []
  }
 ],
 "metadata": {
  "kernelspec": {
   "display_name": "Python 3",
   "language": "python",
   "name": "python3"
  },
  "language_info": {
   "codemirror_mode": {
    "name": "ipython",
    "version": 3
   },
   "file_extension": ".py",
   "mimetype": "text/x-python",
   "name": "python",
   "nbconvert_exporter": "python",
   "pygments_lexer": "ipython3",
   "version": "3.8.3"
  }
 },
 "nbformat": 4,
 "nbformat_minor": 4
}

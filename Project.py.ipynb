{
 "cells": [
  {
   "cell_type": "code",
   "execution_count": 1,
   "metadata": {},
   "outputs": [],
   "source": [
    "import json\n",
    "import csv\n",
    "import pandas as pd\n",
    "from sklearn import preprocessing\n",
    "import numpy as np\n",
    "import os\n",
    "from collections.abc import Sequence\n",
    "import matplotlib.pyplot as plt\n",
    "from matplotlib.pyplot import figure, show\n",
    "import sklearn.feature_extraction.text as sk_text\n",
    "from sklearn import metrics\n",
    "import tensorflow.keras \n",
    "from tensorflow.keras.models import Sequential\n",
    "from sklearn.model_selection import train_test_split\n",
    "from tensorflow.keras.layers import Dense, Activation\n",
    "from tensorflow.keras.callbacks import EarlyStopping , ModelCheckpoint\n",
    "\n",
    "from collections import Counter\n",
    "from datetime import datetime\n"
   ]
  },
  {
   "cell_type": "code",
   "execution_count": 2,
   "metadata": {},
   "outputs": [],
   "source": [
    "### HELPER FUNCTIONS ###\n",
    "\n",
    "# Encode text values to indexes(i.e. [1],[2],[3] for red,green,blue).\n",
    "def encode_text_index(df, name):\n",
    "    le = preprocessing.LabelEncoder()\n",
    "    df[name] = le.fit_transform(df[name])\n",
    "    return le.classes_\n",
    "\n",
    "def encode_numeric_zscore(df, name, mean=None, sd=None):\n",
    "    if mean is None:\n",
    "        mean = df[name].mean()\n",
    "\n",
    "    if sd is None:\n",
    "        sd = df[name].std()\n",
    "\n",
    "    df[name] = (df[name] - mean) / sd\n",
    "    \n",
    "def chart_regression(pred,y,sort=True):\n",
    "    t = pd.DataFrame({'pred' : pred, 'y' : y.flatten()})\n",
    "    if sort:\n",
    "        t.sort_values(by=['y'],inplace=True)\n",
    "    a = plt.plot(t['y'].tolist(),label='expected')\n",
    "    b = plt.plot(t['pred'].tolist(),label='prediction')\n",
    "    plt.ylabel('output')\n",
    "    plt.legend()\n",
    "    plt.show()\n",
    "\n",
    "\n",
    "def to_xy(df, target):\n",
    "    result = []\n",
    "    for x in df.columns:\n",
    "        if x != target:\n",
    "            result.append(x)\n",
    "    # find out the type of the target column. \n",
    "    target_type = df[target].dtypes\n",
    "    target_type = target_type[0] if isinstance(target_type, Sequence) else target_type\n",
    "    # Encode to int for classification, float otherwise. TensorFlow likes 32 bits.\n",
    "    if target_type in (np.int64, np.int32):\n",
    "        # Classification\n",
    "        dummies = pd.get_dummies(df[target])\n",
    "        return df[result].values.astype(np.float32), dummies.values.astype(np.float32)\n",
    "    else:\n",
    "        # Regression\n",
    "        return df[result].values.astype(np.float32), df[target].values.astype(np.float32)"
   ]
  },
  {
   "cell_type": "code",
   "execution_count": 3,
   "metadata": {},
   "outputs": [
    {
     "name": "stdout",
     "output_type": "stream",
     "text": [
      "                  business_id  stars                           name\n",
      "0      f9NumwFMBDn751xgFiRbNA    3.5       The Range At Lake Norman\n",
      "1      51M2Kk903DFYI6gnB5I6SQ    4.5        USE MY GUY SERVICES LLC\n",
      "2      cKyLV5oWZJ2NudWgqs8VZw    4.5    Oasis Auto Center - Gilbert\n",
      "3      oiAlXZPIFm2nBCt0DHLu_Q    3.5           Green World Cleaners\n",
      "4      uZuh51lXu7tsrC8RAwkg1A    4.5                 Manolo Blahnik\n",
      "...                       ...    ...                            ...\n",
      "63848  YZeUH6zYS0dq5QHLYZhUnQ    2.0                        Hooters\n",
      "63849  xVpE01l6ZXdEtVf5PkRpDg    4.0                          Julep\n",
      "63850  fNil19SUfPAPnLQrYnFrGQ    4.5  Cheyenne West Animal Hospital\n",
      "63851  JjcJVqhZXhP4tvOhg3fnag    5.0              Water Heater Pros\n",
      "63852  SYa2j1boLF8DcGVOYfHPcA    3.5                      Five Guys\n",
      "\n",
      "[63853 rows x 3 columns]\n"
     ]
    }
   ],
   "source": [
    "#  tsv output file for cleaned up business json dataset\n",
    "outfile = open(\"businesses.tsv\", 'w')\n",
    "businessfile = csv.writer(outfile, delimiter =\"\\t\", quoting=csv.QUOTE_MINIMAL) \n",
    "businessfile.writerow(['business_id','name', 'stars', 'category'])\n",
    "\n",
    "# Opens json dataset from path. \n",
    "with open('yelp_dataset/yelp_academic_dataset_business.json', encoding=\"utf-8\") as f: \n",
    "    for line in f:\n",
    "        row = json.loads(line)\n",
    "        # Only getting businesses with review count over 20\n",
    "        if row['review_count'] > 20:\n",
    "            # some special char must be encoded in 'utf-8' \n",
    "            businessfile.writerow([row['business_id'], row['name'], row['stars'], row['categories']])\n",
    "\n",
    "# Close tsv file\n",
    "outfile.close()\n",
    "\n",
    "# Create pandas dataframe tsv output file\n",
    "df_business = pd.read_csv('businesses.tsv', delimiter =\"\\t\", encoding=\"utf-8\")\n",
    "df_stars = df_business[['business_id', 'stars' , 'name']]\n",
    "\n",
    "print(df_stars)"
   ]
  },
  {
   "cell_type": "code",
   "execution_count": 4,
   "metadata": {},
   "outputs": [],
   "source": [
    "# dict for business_ids of businesses used for project\n",
    "# Will use this to search for the businesses chosen for project in the reviews json dataset\n",
    "# and add it to reviews tsv\n",
    "chosen_business = { 'YZeUH6zYS0dq5QHLYZhUnQ':'Hooters', 'oiAlXZPIFm2nBCt0DHLu_Q': 'Green World Cleaners', 'fNil19SUfPAPnLQrYnFrGQ' :'Cheyenne West Animal Hospital',   'JjcJVqhZXhP4tvOhg3fnag' :'Water Heater Pros' }\n",
    "\n",
    "\n",
    "#  tsv output file for cleaned up review json dataset\n",
    "outfile = open(\"review_stars.tsv\", 'w')\n",
    "sfile = csv.writer(outfile, delimiter =\"\\t\", quoting=csv.QUOTE_MINIMAL) \n",
    "sfile.writerow(['business_id','stars', 'text'])\n",
    "\n",
    "# Opens json dataset from path. \n",
    "with open('yelp_dataset/yelp_academic_dataset_review.json', encoding=\"utf-8\") as f: \n",
    "    for line in f:\n",
    "        row = json.loads(line)\n",
    "        # If statement to look for our chosen businesses\n",
    "        if row['business_id'] in chosen_business: \n",
    "            # some special char must be encoded in 'utf-8' \n",
    "            sfile.writerow( [row['business_id'], row['stars'], (row['text']).encode('utf-8')])\n",
    "        \n",
    "            \n",
    "\n",
    "# Close tsv file\n",
    "outfile.close()\n",
    "\n",
    "# Create pandas dataframe tsv output file\n",
    "df = pd.read_csv('review_stars.tsv', delimiter =\"\\t\", encoding=\"utf-8\")\n",
    "\n"
   ]
  },
  {
   "cell_type": "code",
   "execution_count": 5,
   "metadata": {},
   "outputs": [
    {
     "name": "stdout",
     "output_type": "stream",
     "text": [
      "              business_id                                               text  \\\n",
      "0  JjcJVqhZXhP4tvOhg3fnag  b'My water heater was leaking and I needed to ...   \n",
      "1  YZeUH6zYS0dq5QHLYZhUnQ  b'Came into this place on 12/20/15 to catch th...   \n",
      "2  fNil19SUfPAPnLQrYnFrGQ  b\"I was a new patient bringing my dog in for t...   \n",
      "3  oiAlXZPIFm2nBCt0DHLu_Q  b\"I've been coming to this dry cleaner for alm...   \n",
      "\n",
      "   stars                           name  \n",
      "0    5.0              Water Heater Pros  \n",
      "1    2.0                        Hooters  \n",
      "2    4.5  Cheyenne West Animal Hospital  \n",
      "3    3.5           Green World Cleaners  \n",
      "   stars         0         1         2       3         4         5         6  \\\n",
      "0    5.0  0.004742  0.015507  0.006638  0.0104  0.017057  0.001551  0.001897   \n",
      "1    2.0  0.031104  0.033906  0.003456  0.0000  0.008476  0.008476  0.010368   \n",
      "2    4.5  0.001974  0.016136  0.000000  0.0000  0.004841  0.004841  0.005921   \n",
      "3    3.5  0.000000  0.028003  0.019572  0.0000  0.012001  0.004000  0.000000   \n",
      "\n",
      "          7         8  ...       990       991       992       993       994  \\\n",
      "0  0.001897  0.006203  ...  0.003877  0.001171  0.022485  0.016282  0.052723   \n",
      "1  0.000000  0.053684  ...  0.025429  0.021344  0.011302  0.014127  0.008476   \n",
      "2  0.005921  0.011295  ...  0.008068  0.000000  0.022590  0.085519  0.014522   \n",
      "3  0.009786  0.016002  ...  0.044005  0.000000  0.012001  0.040004  0.020002   \n",
      "\n",
      "        995       996       997       998       999  \n",
      "0  0.004686  0.005427  0.003877  0.000000  0.000000  \n",
      "1  0.000000  0.011302  0.002825  0.000000  0.000000  \n",
      "2  0.002438  0.003227  0.008068  0.018552  0.000000  \n",
      "3  0.000000  0.016002  0.004000  0.000000  0.053662  \n",
      "\n",
      "[4 rows x 1001 columns]\n"
     ]
    }
   ],
   "source": [
    "\n",
    "\n",
    "# Aggregate all reviews for each business into one column\n",
    "df_review_agg = df.groupby('business_id')['text'].sum()\n",
    "# Merge review dataframe with star rating from business dataframe using business_id\n",
    "df_merge = pd.merge(df_review_agg, df_stars, on='business_id')\n",
    "\n",
    "print(df_merge)\n",
    "\n",
    "# Tfidf vectorizer for text column\n",
    "vectorizer = sk_text.TfidfVectorizer(\n",
    "                             stop_words='english',\n",
    "                             max_features = 1000,\n",
    "                             min_df=1)\n",
    "text_vector = vectorizer.fit_transform(df_merge['text'])\n",
    "\n",
    "# Merge vectorized text vector with dataframe\n",
    "df_text = pd.DataFrame(text_vector.toarray())\n",
    "df_concatenation = pd.concat([df_merge, df_text], axis=1)\n",
    "\n",
    "business_names = []\n",
    "\n",
    "business_names = df_concatenation['name']\n",
    "# drop unnecessary columns for neural network\n",
    "df_for_nn = df_concatenation.drop(['business_id','text','name'], axis=1) # drop unnecessary columns for neural network\n",
    "\n",
    "#collumn = 0 \n",
    "#for x in range(1000):\n",
    "#    encode_numeric_zscore(df_for_nn, x)\n",
    "\n",
    "print(df_for_nn)"
   ]
  },
  {
   "cell_type": "code",
   "execution_count": 6,
   "metadata": {},
   "outputs": [],
   "source": [
    "x,y = to_xy(df_for_nn,\"stars\")\n",
    "x_train, x_test, y_train, y_test = train_test_split (x, y, test_size=0.25, random_state=45)"
   ]
  },
  {
   "cell_type": "code",
   "execution_count": 7,
   "metadata": {},
   "outputs": [
    {
     "name": "stdout",
     "output_type": "stream",
     "text": [
      "Train on 3 samples, validate on 1 samples\n",
      "Epoch 1/1000\n",
      "3/3 - 1s - loss: 12.2605 - val_loss: 23.3460\n",
      "Epoch 2/1000\n",
      "3/3 - 0s - loss: 10.3777 - val_loss: 21.3706\n",
      "Epoch 3/1000\n",
      "3/3 - 0s - loss: 8.7895 - val_loss: 19.6039\n",
      "Epoch 4/1000\n",
      "3/3 - 0s - loss: 7.4300 - val_loss: 18.0083\n",
      "Epoch 5/1000\n",
      "3/3 - 0s - loss: 6.2582 - val_loss: 16.5606\n",
      "Epoch 6/1000\n",
      "3/3 - 0s - loss: 5.2478 - val_loss: 15.2469\n",
      "Epoch 7/1000\n",
      "3/3 - 0s - loss: 4.3804 - val_loss: 14.0582\n",
      "Epoch 8/1000\n",
      "3/3 - 0s - loss: 3.6416 - val_loss: 12.9879\n",
      "Epoch 9/1000\n",
      "3/3 - 0s - loss: 3.0189 - val_loss: 12.0303\n",
      "Epoch 10/1000\n",
      "3/3 - 0s - loss: 2.5002 - val_loss: 11.1796\n",
      "Epoch 11/1000\n",
      "3/3 - 0s - loss: 2.0733 - val_loss: 10.4292\n",
      "Epoch 12/1000\n",
      "3/3 - 0s - loss: 1.7261 - val_loss: 9.7722\n",
      "Epoch 13/1000\n",
      "3/3 - 0s - loss: 1.4467 - val_loss: 9.2006\n",
      "Epoch 14/1000\n",
      "3/3 - 0s - loss: 1.2240 - val_loss: 8.7064\n",
      "Epoch 15/1000\n",
      "3/3 - 0s - loss: 1.0475 - val_loss: 8.2816\n",
      "Epoch 16/1000\n",
      "3/3 - 0s - loss: 0.9083 - val_loss: 7.9180\n",
      "Epoch 17/1000\n",
      "3/3 - 0s - loss: 0.7984 - val_loss: 7.6083\n",
      "Epoch 18/1000\n",
      "3/3 - 0s - loss: 0.7115 - val_loss: 7.3453\n",
      "Epoch 19/1000\n",
      "3/3 - 0s - loss: 0.6421 - val_loss: 7.1226\n",
      "Epoch 20/1000\n",
      "3/3 - 0s - loss: 0.5862 - val_loss: 6.9347\n",
      "Epoch 21/1000\n",
      "3/3 - 0s - loss: 0.5404 - val_loss: 6.7763\n",
      "Epoch 22/1000\n",
      "3/3 - 0s - loss: 0.5023 - val_loss: 6.6432\n",
      "Epoch 23/1000\n",
      "3/3 - 0s - loss: 0.4700 - val_loss: 6.5314\n",
      "Epoch 24/1000\n",
      "3/3 - 0s - loss: 0.4420 - val_loss: 6.4376\n",
      "Epoch 25/1000\n",
      "3/3 - 0s - loss: 0.4174 - val_loss: 6.3591\n",
      "Epoch 26/1000\n",
      "3/3 - 0s - loss: 0.3954 - val_loss: 6.2933\n",
      "Epoch 27/1000\n",
      "3/3 - 0s - loss: 0.3753 - val_loss: 6.2384\n",
      "Epoch 28/1000\n",
      "3/3 - 0s - loss: 0.3569 - val_loss: 6.1925\n",
      "Epoch 29/1000\n",
      "3/3 - 0s - loss: 0.3398 - val_loss: 6.1542\n",
      "Epoch 30/1000\n",
      "3/3 - 0s - loss: 0.3238 - val_loss: 6.1222\n",
      "Epoch 31/1000\n",
      "3/3 - 0s - loss: 0.3087 - val_loss: 6.0955\n",
      "Epoch 32/1000\n",
      "3/3 - 0s - loss: 0.2944 - val_loss: 6.0734\n",
      "Epoch 33/1000\n",
      "3/3 - 0s - loss: 0.2808 - val_loss: 6.0549\n",
      "Epoch 34/1000\n",
      "3/3 - 0s - loss: 0.2679 - val_loss: 6.0396\n",
      "Epoch 35/1000\n",
      "3/3 - 0s - loss: 0.2556 - val_loss: 6.0269\n",
      "Epoch 36/1000\n",
      "3/3 - 0s - loss: 0.2439 - val_loss: 6.0164\n",
      "Epoch 37/1000\n",
      "3/3 - 0s - loss: 0.2326 - val_loss: 6.0077\n",
      "Epoch 38/1000\n",
      "3/3 - 0s - loss: 0.2219 - val_loss: 6.0005\n",
      "Epoch 39/1000\n",
      "3/3 - 0s - loss: 0.2117 - val_loss: 5.9947\n",
      "Epoch 40/1000\n",
      "3/3 - 0s - loss: 0.2018 - val_loss: 5.9899\n",
      "Epoch 41/1000\n",
      "3/3 - 0s - loss: 0.1925 - val_loss: 5.9860\n",
      "Epoch 42/1000\n",
      "3/3 - 0s - loss: 0.1835 - val_loss: 5.9829\n",
      "Epoch 43/1000\n",
      "3/3 - 0s - loss: 0.1749 - val_loss: 5.9804\n",
      "Epoch 44/1000\n",
      "3/3 - 0s - loss: 0.1667 - val_loss: 5.9785\n",
      "Epoch 45/1000\n",
      "3/3 - 0s - loss: 0.1588 - val_loss: 5.9770\n",
      "Epoch 46/1000\n",
      "3/3 - 0s - loss: 0.1513 - val_loss: 5.9759\n",
      "Epoch 47/1000\n",
      "3/3 - 0s - loss: 0.1442 - val_loss: 5.9751\n",
      "Epoch 48/1000\n",
      "3/3 - 0s - loss: 0.1373 - val_loss: 5.9746\n",
      "Epoch 49/1000\n",
      "3/3 - 0s - loss: 0.1308 - val_loss: 5.9743\n",
      "Epoch 50/1000\n",
      "3/3 - 0s - loss: 0.1245 - val_loss: 5.9742\n",
      "Epoch 51/1000\n",
      "3/3 - 0s - loss: 0.1185 - val_loss: 5.9743\n",
      "Epoch 00051: early stopping\n"
     ]
    },
    {
     "data": {
      "text/plain": [
       "<tensorflow.python.keras.callbacks.History at 0x1a45b55550>"
      ]
     },
     "execution_count": 7,
     "metadata": {},
     "output_type": "execute_result"
    }
   ],
   "source": [
    "model = Sequential()\n",
    "\n",
    "model.add(Dense(500, input_dim=x.shape[1], activation='tanh'))\n",
    "# model.add(Dense(250, activation='relu'))\n",
    "# model.add(Dense(125, activation='relu'))\n",
    "model.add(Dense(1))\n",
    "\n",
    "\n",
    "model.compile(loss='mean_squared_error', optimizer='sgd')\n",
    "\n",
    "monitor = EarlyStopping(monitor='val_loss', min_delta=1e-3, patience=3, verbose=1, mode='auto')\n",
    "\n",
    "model.fit(x_train,y_train, validation_data=(x_test,y_test),callbacks=[monitor],verbose=2,epochs=1000)    # Verbosity mode. 0 = silent, 1 = progress bar, 2 = one line per epoch."
   ]
  },
  {
   "cell_type": "code",
   "execution_count": 8,
   "metadata": {},
   "outputs": [
    {
     "name": "stdout",
     "output_type": "stream",
     "text": [
      "Shape: (1, 1)\n",
      "[[2.5557668]]\n",
      "[[2.447212 ]\n",
      " [4.129297 ]\n",
      " [3.4680278]]\n"
     ]
    }
   ],
   "source": [
    "pred_test = model.predict(x_test)\n",
    "print(\"Shape: {}\".format(pred_test.shape))\n",
    "print(pred_test)\n",
    "\n",
    "pred_train = model.predict(x_train)\n",
    "print(pred_train)"
   ]
  },
  {
   "cell_type": "code",
   "execution_count": 9,
   "metadata": {},
   "outputs": [
    {
     "name": "stdout",
     "output_type": "stream",
     "text": [
      "Final score (RMSE): 2.4442331790924072\n"
     ]
    }
   ],
   "source": [
    "# Measure RMSE error.  RMSE is common for regression.\n",
    "score = np.sqrt(metrics.mean_squared_error(pred_test,y_test))\n",
    "print(\"Final score (RMSE): {}\".format(score))"
   ]
  },
  {
   "cell_type": "code",
   "execution_count": 10,
   "metadata": {},
   "outputs": [
    {
     "name": "stdout",
     "output_type": "stream",
     "text": [
      "1. Business Name: Water Heater Pros, Star Rating: 5.0, predicted Star Rating: [2.5557668]\n",
      "2. Business Name: Hooters, Star Rating: 2.0, predicted Star Rating: [2.447212]\n",
      "3. Business Name: Cheyenne West Animal Hospital, Star Rating: 4.5, predicted Star Rating: [4.129297]\n",
      "4. Business Name: Green World Cleaners, Star Rating: 3.5, predicted Star Rating: [3.4680278]\n"
     ]
    }
   ],
   "source": [
    "for i in range(pred_test.shape[0]):\n",
    "    print(\"{}. Business Name: {}, Star Rating: {}, predicted Star Rating: {}\".format(i+1,business_names[i],y[i],pred_test[i]))\n",
    "    \n",
    "for i in range(pred_train.shape[0]):\n",
    "    print(\"{}. Business Name: {}, Star Rating: {}, predicted Star Rating: {}\".format(i+2,business_names[i+1],y[i+1],pred_train[i]))"
   ]
  },
  {
   "cell_type": "code",
   "execution_count": 11,
   "metadata": {},
   "outputs": [
    {
     "data": {
      "text/html": [
       "<div>\n",
       "<style scoped>\n",
       "    .dataframe tbody tr th:only-of-type {\n",
       "        vertical-align: middle;\n",
       "    }\n",
       "\n",
       "    .dataframe tbody tr th {\n",
       "        vertical-align: top;\n",
       "    }\n",
       "\n",
       "    .dataframe thead th {\n",
       "        text-align: right;\n",
       "    }\n",
       "</style>\n",
       "<table border=\"1\" class=\"dataframe\">\n",
       "  <thead>\n",
       "    <tr style=\"text-align: right;\">\n",
       "      <th></th>\n",
       "      <th>ground_truth</th>\n",
       "      <th>predicted</th>\n",
       "    </tr>\n",
       "  </thead>\n",
       "  <tbody>\n",
       "    <tr>\n",
       "      <td>0</td>\n",
       "      <td>5.0</td>\n",
       "      <td>2.555767</td>\n",
       "    </tr>\n",
       "  </tbody>\n",
       "</table>\n",
       "</div>"
      ],
      "text/plain": [
       "   ground_truth  predicted\n",
       "0           5.0   2.555767"
      ]
     },
     "execution_count": 11,
     "metadata": {},
     "output_type": "execute_result"
    }
   ],
   "source": [
    "# print out prediction\n",
    "df_y = pd.DataFrame(y_test, columns=['ground_truth'])\n",
    "df_pred = pd.DataFrame(pred_test, columns=['predicted'])\n",
    "result = pd.concat([df_y, df_pred],axis=1)\n",
    "result"
   ]
  },
  {
   "cell_type": "code",
   "execution_count": 12,
   "metadata": {},
   "outputs": [
    {
     "data": {
      "image/png": "[encoded data removed]",
      "text/plain": [
       "<Figure size 432x288 with 1 Axes>"
      ]
     },
     "metadata": {
      "needs_background": "light"
     },
     "output_type": "display_data"
    }
   ],
   "source": [
    "chart_regression(pred_test.flatten(),y_test, sort=True)"
   ]
  },
  {
   "cell_type": "code",
   "execution_count": null,
   "metadata": {},
   "outputs": [],
   "source": []
  }
 ],
 "metadata": {
  "kernelspec": {
   "display_name": "Python 3",
   "language": "python",
   "name": "python3"
  },
  "language_info": {
   "codemirror_mode": {
    "name": "ipython",
    "version": 3
   },
   "file_extension": ".py",
   "mimetype": "text/x-python",
   "name": "python",
   "nbconvert_exporter": "python",
   "pygments_lexer": "ipython3",
   "version": "3.7.4"
  }
 },
 "nbformat": 4,
 "nbformat_minor": 4
}

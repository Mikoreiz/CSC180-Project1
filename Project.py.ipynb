{
 "cells": [
  {
   "cell_type": "code",
   "execution_count": 1,
   "metadata": {},
   "outputs": [],
   "source": [
    "import json\n",
    "import csv\n",
    "import pandas as pd\n",
    "from sklearn import preprocessing"
   ]
  },
  {
   "cell_type": "code",
   "execution_count": null,
   "metadata": {},
   "outputs": [],
   "source": [
    "### HELPER FUNCTIONS ###\n",
    "\n",
    "# Encode text values to indexes(i.e. [1],[2],[3] for red,green,blue).\n",
    "def encode_text_index(df, name):\n",
    "    le = preprocessing.LabelEncoder()\n",
    "    df[name] = le.fit_transform(df[name])\n",
    "    return le.classes_"
   ]
  },
  {
   "cell_type": "code",
   "execution_count": 2,
   "metadata": {},
   "outputs": [],
   "source": [
    "#  tsv output file for cleaned up business json dataset\n",
    "outfile = open(\"businesses.tsv\", 'w')\n",
    "businessfile = csv.writer(outfile, delimiter =\"\\t\", quoting=csv.QUOTE_MINIMAL) \n",
    "businessfile.writerow(['business_id','name', 'stars', 'category'])\n",
    "\n",
    "# Opens json dataset from path. \n",
    "with open('yelp_dataset/yelp_academic_dataset_business.json', encoding=\"utf-8\") as f: \n",
    "    for line in f:\n",
    "        row = json.loads(line)\n",
    "        # Only getting businesses with review count over 20\n",
    "        if row['review_count'] > 20:\n",
    "            # some special char must be encoded in 'utf-8' \n",
    "            businessfile.writerow([row['business_id'], row['name'], row['stars'], row['categories']])\n",
    "\n",
    "# Close tsv file\n",
    "outfile.close()\n",
    "\n",
    "# Create pandas dataframe tsv output file\n",
    "df = pd.read_csv('businesses.tsv', delimiter =\"\\t\", encoding=\"utf-8\")"
   ]
  },
  {
   "cell_type": "code",
   "execution_count": 4,
   "metadata": {},
   "outputs": [
    {
     "name": "stdout",
     "output_type": "stream",
     "text": [
      "                business_id  stars  \\\n",
      "0    oiAlXZPIFm2nBCt0DHLu_Q    5.0   \n",
      "1    oiAlXZPIFm2nBCt0DHLu_Q    1.0   \n",
      "2    oiAlXZPIFm2nBCt0DHLu_Q    5.0   \n",
      "3    oiAlXZPIFm2nBCt0DHLu_Q    1.0   \n",
      "4    oiAlXZPIFm2nBCt0DHLu_Q    5.0   \n",
      "..                      ...    ...   \n",
      "543  YZeUH6zYS0dq5QHLYZhUnQ    1.0   \n",
      "544  YZeUH6zYS0dq5QHLYZhUnQ    1.0   \n",
      "545  JjcJVqhZXhP4tvOhg3fnag    5.0   \n",
      "546  JjcJVqhZXhP4tvOhg3fnag    1.0   \n",
      "547  YZeUH6zYS0dq5QHLYZhUnQ    3.0   \n",
      "\n",
      "                                                  text  \n",
      "0    b\"I've been coming to this dry cleaner for alm...  \n",
      "1    b'They lost 2 pairs of my suitpants and told m...  \n",
      "2    b\"I have been going to this dry cleaning since...  \n",
      "3    b'I\\'ve only had my dry cleaning done here twi...  \n",
      "4    b'After reading the reviews of the cleaners cl...  \n",
      "..                                                 ...  \n",
      "543  b'I hate to give a one star, but this place ne...  \n",
      "544  b'I LOVE HOOTERS! When I came to this particul...  \n",
      "545  b'Priced out purchasing own water heater with ...  \n",
      "546  b\"Wow!!!  This guy has called me, a WOMAN and ...  \n",
      "547  b'It would be nice if they would update their ...  \n",
      "\n",
      "[548 rows x 3 columns]\n",
      "     business_id  stars                                               text\n",
      "0              3    5.0  b\"I've been coming to this dry cleaner for alm...\n",
      "1              3    1.0  b'They lost 2 pairs of my suitpants and told m...\n",
      "2              3    5.0  b\"I have been going to this dry cleaning since...\n",
      "3              3    1.0  b'I\\'ve only had my dry cleaning done here twi...\n",
      "4              3    5.0  b'After reading the reviews of the cleaners cl...\n",
      "..           ...    ...                                                ...\n",
      "543            1    1.0  b'I hate to give a one star, but this place ne...\n",
      "544            1    1.0  b'I LOVE HOOTERS! When I came to this particul...\n",
      "545            0    5.0  b'Priced out purchasing own water heater with ...\n",
      "546            0    1.0  b\"Wow!!!  This guy has called me, a WOMAN and ...\n",
      "547            1    3.0  b'It would be nice if they would update their ...\n",
      "\n",
      "[548 rows x 3 columns]\n"
     ]
    }
   ],
   "source": [
    "# Hashset for business_ids of businesses used for project\n",
    "# Will use this to search for the businesses chosen for project in the reviews json dataset\n",
    "# and add it to reviews tsv\n",
    "chosen_business = {'YZeUH6zYS0dq5QHLYZhUnQ', 'oiAlXZPIFm2nBCt0DHLu_Q', 'fNil19SUfPAPnLQrYnFrGQ', 'JjcJVqhZXhP4tvOhg3fnag'}\n",
    "\n",
    "\n",
    "#  tsv output file for cleaned up review json dataset\n",
    "outfile = open(\"review_stars.tsv\", 'w')\n",
    "sfile = csv.writer(outfile, delimiter =\"\\t\", quoting=csv.QUOTE_MINIMAL) \n",
    "sfile.writerow(['business_id','stars', 'text'])\n",
    "\n",
    "# Opens json dataset from path. \n",
    "with open('yelp_dataset/yelp_academic_dataset_review.json', encoding=\"utf-8\") as f: \n",
    "    for line in f:\n",
    "        row = json.loads(line)\n",
    "        # If statement to look for our chosen businesses\n",
    "        if row['business_id'] in chosen_business: \n",
    "            # some special char must be encoded in 'utf-8' \n",
    "            sfile.writerow([row['business_id'], row['stars'], (row['text']).encode('utf-8')])\n",
    "\n",
    "# Close tsv file\n",
    "outfile.close()\n",
    "\n",
    "# Create pandas dataframe tsv output file\n",
    "df = pd.read_csv('review_stars.tsv', delimiter =\"\\t\", encoding=\"utf-8\")\n",
    "\n",
    "print(df)\n",
    "\n",
    "# One hot encoding for the 4 businesses chosen\n",
    "encode_text_index(df,\"business_id\")\n",
    "\n",
    "print(df)"
   ]
  },
  {
   "cell_type": "code",
   "execution_count": null,
   "metadata": {},
   "outputs": [],
   "source": []
  }
 ],
 "metadata": {
  "kernelspec": {
   "display_name": "Python 3",
   "language": "python",
   "name": "python3"
  },
  "language_info": {
   "codemirror_mode": {
    "name": "ipython",
    "version": 3
   },
   "file_extension": ".py",
   "mimetype": "text/x-python",
   "name": "python",
   "nbconvert_exporter": "python",
   "pygments_lexer": "ipython3",
   "version": "3.7.4"
  }
 },
 "nbformat": 4,
 "nbformat_minor": 2
}
